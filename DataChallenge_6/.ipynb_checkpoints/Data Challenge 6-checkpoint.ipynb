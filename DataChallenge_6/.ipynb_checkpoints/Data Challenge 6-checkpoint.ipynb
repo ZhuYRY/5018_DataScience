{
 "cells": [
  {
   "cell_type": "markdown",
   "metadata": {},
   "source": [
    "# Data Challenge 6\n",
    "\n",
    "Github link: https://github.com/ZhuYRY/5018_DataScience.git\n",
    "\n",
    "Yanruyu Zhu(yaz4004)"
   ]
  },
  {
   "cell_type": "markdown",
   "metadata": {},
   "source": [
    "## Abstract: \n",
    "\n",
    "In this analysis, I am going to use feature selection and preprocessing along with PCA to reduce dimension. The final goal is to see if we can find the clustering of the difference price range by K-means clustering algorithm. And the results show that PCA can not find the proper reduced dimension so that the clustering algorithm would work well."
   ]
  },
  {
   "cell_type": "markdown",
   "metadata": {},
   "source": [
    "## Introduction\n",
    "\n",
    "I choose the Airbnb NYC detailed listing data. Now I will present the original data and how I preprocess it."
   ]
  },
  {
   "cell_type": "markdown",
   "metadata": {},
   "source": [
    "#### Exploring data and data cleaning"
   ]
  },
  {
   "cell_type": "code",
   "execution_count": 1,
   "metadata": {},
   "outputs": [
    {
     "data": {
      "text/html": [
       "\n",
       "<script src='//code.jquery.com/jquery-3.3.1.min.js'></script>\n",
       "<script>\n",
       "code_show=true;\n",
       "function code_toggle() {\n",
       "if (code_show){\n",
       "$('div.input').hide();\n",
       "$('div .jp-CodeCell .jp-Cell-inputWrapper').hide();\n",
       "} else {\n",
       "$('div.input').show();\n",
       "$('div .jp-CodeCell .jp-Cell-inputWrapper').show();\n",
       "}\n",
       "code_show = !code_show\n",
       "}\n",
       "$( document ).ready(code_toggle);\n",
       "</script>\n",
       "<form action=\"javascript:code_toggle()\">\n",
       "<input type=\"submit\" value=\"Code on/off\"></form>"
      ],
      "text/plain": [
       "<IPython.core.display.HTML object>"
      ]
     },
     "execution_count": 1,
     "metadata": {},
     "output_type": "execute_result"
    }
   ],
   "source": [
    "from IPython.display import HTML\n",
    "HTML('''\n",
    "<script src='//code.jquery.com/jquery-3.3.1.min.js'></script>\n",
    "<script>\n",
    "code_show=true;\n",
    "function code_toggle() {\n",
    "if (code_show){\n",
    "$('div.input').hide();\n",
    "$('div .jp-CodeCell .jp-Cell-inputWrapper').hide();\n",
    "} else {\n",
    "$('div.input').show();\n",
    "$('div .jp-CodeCell .jp-Cell-inputWrapper').show();\n",
    "}\n",
    "code_show = !code_show\n",
    "}\n",
    "$( document ).ready(code_toggle);\n",
    "</script>\n",
    "<form action=\"javascript:code_toggle()\">\n",
    "<input type=\"submit\" value=\"Code on/off\"></form>''')"
   ]
  },
  {
   "cell_type": "code",
   "execution_count": 2,
   "metadata": {},
   "outputs": [],
   "source": [
    "# import required libarary\n",
    "import pandas as pd\n",
    "import numpy as np\n",
    "import matplotlib.pyplot as plt"
   ]
  },
  {
   "cell_type": "markdown",
   "metadata": {},
   "source": [
    " #### Drop columns that are not relevant to the problem.\n",
    " \n",
    " First we load the dataset and find out that it has dimension 44666$\\times$74. To start, we drop some irrelevant columns that are unhelpful to our clustering analysis. For example, the description of the house is a string that is hard to deal with."
   ]
  },
  {
   "cell_type": "code",
   "execution_count": 50,
   "metadata": {},
   "outputs": [
    {
     "name": "stdout",
     "output_type": "stream",
     "text": [
      "Shape of the dataset before dropping:  (44666, 74)\n",
      "Shape of the dataset after dropping:  (44666, 50)\n"
     ]
    }
   ],
   "source": [
    "\n",
    "# listing = pd.read_csv('listings.csv')\n",
    "listing = pd.read_csv('NYC.csv')\n",
    "objects = listing.select_dtypes(include=['object']).columns\n",
    "drop_object = ['name',\n",
    "               'host_verifications',\n",
    "               'description',\n",
    "             'listing_url',\n",
    "             'last_scraped',\n",
    "             'picture_url',\n",
    "             'host_url',\n",
    "             'host_name',\n",
    "             'host_since',\n",
    "             'host_location',\n",
    "             'host_about',\n",
    "             'host_thumbnail_url',\n",
    "             'host_picture_url',\n",
    "             'host_neighbourhood',\n",
    "             'neighbourhood',\n",
    "             'calendar_last_scraped',\n",
    "             'first_review',\n",
    "             'last_review',\n",
    "              'bathrooms_text',\n",
    "              'amenities']\n",
    "floats = listing.select_dtypes(include=['float64']).columns\n",
    "drop_float = ['minimum_nights_avg_ntm',\n",
    "              'maximum_nights_avg_ntm']\n",
    "ints = listing.select_dtypes(include=['int64']).columns\n",
    "drop_int = ['scrape_id',\n",
    "            'host_id']\n",
    "drop_cols = drop_object + drop_float + drop_int\n",
    "print(\"Shape of the dataset before dropping: \", listing.shape)\n",
    "listing = listing.drop(columns = drop_cols)\n",
    "print(\"Shape of the dataset after dropping: \", listing.shape)\n",
    "\n",
    "# nyc = pd.read_csv('NYC.csv')\n",
    "# nyc.iloc[0,:]"
   ]
  },
  {
   "cell_type": "markdown",
   "metadata": {},
   "source": [
    "#### Drop columns which have more than 20% missing data\n",
    "\n",
    "Also we need to delete the columns that are missing too much datas, they would messed up our final analysis."
   ]
  },
  {
   "cell_type": "code",
   "execution_count": 4,
   "metadata": {},
   "outputs": [
    {
     "name": "stdout",
     "output_type": "stream",
     "text": [
      "Shape of the dataset before dropping:  (44666, 50)\n",
      "Dropping 15 columns\n",
      "Shape of the dataset after dropping:  (44666, 35)\n"
     ]
    }
   ],
   "source": [
    "def missing_statistics(df):\n",
    "    missing_stats = df.isnull().sum().to_frame()\n",
    "    missing_stats.columns = ['num_missing']\n",
    "    missing_stats['percent_missing'] = np.round(100 * (missing_stats['num_missing'] / df.shape[0]))\n",
    "    missing_stats.sort_values(by='num_missing', ascending=False, inplace=True)\n",
    "    return missing_stats\n",
    "num_missing = missing_statistics(listing)\n",
    "num_missing\n",
    "drop_cols = list(num_missing[num_missing.percent_missing > 20].index)\n",
    "print(\"Shape of the dataset before dropping: \", listing.shape)\n",
    "print(\"Dropping {} columns\".format(len(drop_cols)))\n",
    "listing = listing.drop(columns = drop_cols)\n",
    "print(\"Shape of the dataset after dropping: \", listing.shape)\n"
   ]
  },
  {
   "cell_type": "markdown",
   "metadata": {},
   "source": [
    "#### Convert object types to categorical and boolean variables\n",
    "\n",
    "We can not analyze object type, so we convert them to categorical values."
   ]
  },
  {
   "cell_type": "code",
   "execution_count": 5,
   "metadata": {},
   "outputs": [
    {
     "data": {
      "text/plain": [
       "host_is_superhost         category\n",
       "host_has_profile_pic      category\n",
       "host_identity_verified    category\n",
       "property_type             category\n",
       "room_type                 category\n",
       "has_availability          category\n",
       "instant_bookable          category\n",
       "dtype: object"
      ]
     },
     "execution_count": 5,
     "metadata": {},
     "output_type": "execute_result"
    }
   ],
   "source": [
    "categorical_types = ['host_is_superhost',\n",
    "                     'host_has_profile_pic',\n",
    "                     'host_identity_verified',\n",
    "                     'property_type',\n",
    "                     'room_type',\n",
    "                     'has_availability',\n",
    "                     'instant_bookable',]\n",
    "                     \n",
    "# listing[categorical_types].dtypes\n",
    "listing[categorical_types] = listing[categorical_types].apply(lambda x: x.astype('category'),axis='rows')\n",
    "listing[categorical_types].dtypes"
   ]
  },
  {
   "cell_type": "markdown",
   "metadata": {},
   "source": [
    "#### Subseting the categorical values\n",
    "\n",
    "For those categorical values with too many categories. We need to delete the insignificant category."
   ]
  },
  {
   "cell_type": "code",
   "execution_count": 6,
   "metadata": {},
   "outputs": [
    {
     "name": "stdout",
     "output_type": "stream",
     "text": [
      "host_is_superhost          2\n",
      "host_has_profile_pic       2\n",
      "host_identity_verified     2\n",
      "property_type             84\n",
      "room_type                  4\n",
      "has_availability           2\n",
      "instant_bookable           2\n",
      "dtype: int64\n"
     ]
    }
   ],
   "source": [
    "num_unique_values = listing[categorical_types].apply(pd.Series.nunique, axis='rows')\n",
    "print(num_unique_values)"
   ]
  },
  {
   "cell_type": "markdown",
   "metadata": {},
   "source": [
    "From above we noticed that there are 84 property type and the significant categories we keep are listed below."
   ]
  },
  {
   "cell_type": "code",
   "execution_count": 7,
   "metadata": {},
   "outputs": [
    {
     "data": {
      "text/plain": [
       "Entire apartment             18579\n",
       "Private room in apartment    15347\n",
       "Private room in house         2247\n",
       "Private room in townhouse     1073\n",
       "Entire house                  1065\n",
       "Entire condominium            1028\n",
       "Name: property_type, dtype: int64"
      ]
     },
     "execution_count": 7,
     "metadata": {},
     "output_type": "execute_result"
    }
   ],
   "source": [
    "listing = listing[listing.property_type.isin(['Entire apartment', 'Private room in apartment', 'Private room in house', 'Private room in townhouse','Entire house','Entire condominium'])]\n",
    "listing = listing.copy()\n",
    "listing.loc[:, 'property_type'] = listing.loc[:,'property_type'].cat.remove_unused_categories()\n",
    "listing.property_type.value_counts()"
   ]
  },
  {
   "cell_type": "markdown",
   "metadata": {},
   "source": [
    "#### Dealing with Null values\n",
    "\n",
    "For the columns that has less than 20% missing values, we replace the missing values with most frequent values or median values."
   ]
  },
  {
   "cell_type": "code",
   "execution_count": 8,
   "metadata": {},
   "outputs": [
    {
     "name": "stdout",
     "output_type": "stream",
     "text": [
      "The size of the dataframe now: (39339, 35)\n"
     ]
    },
    {
     "data": {
      "text/html": [
       "<div>\n",
       "<style scoped>\n",
       "    .dataframe tbody tr th:only-of-type {\n",
       "        vertical-align: middle;\n",
       "    }\n",
       "\n",
       "    .dataframe tbody tr th {\n",
       "        vertical-align: top;\n",
       "    }\n",
       "\n",
       "    .dataframe thead th {\n",
       "        text-align: right;\n",
       "    }\n",
       "</style>\n",
       "<table border=\"1\" class=\"dataframe\">\n",
       "  <thead>\n",
       "    <tr style=\"text-align: right;\">\n",
       "      <th></th>\n",
       "      <th>num_missing</th>\n",
       "      <th>percent_missing</th>\n",
       "    </tr>\n",
       "  </thead>\n",
       "  <tbody>\n",
       "    <tr>\n",
       "      <th>bedrooms</th>\n",
       "      <td>3696</td>\n",
       "      <td>9.0</td>\n",
       "    </tr>\n",
       "    <tr>\n",
       "      <th>beds</th>\n",
       "      <td>427</td>\n",
       "      <td>1.0</td>\n",
       "    </tr>\n",
       "    <tr>\n",
       "      <th>host_listings_count</th>\n",
       "      <td>14</td>\n",
       "      <td>0.0</td>\n",
       "    </tr>\n",
       "    <tr>\n",
       "      <th>host_total_listings_count</th>\n",
       "      <td>14</td>\n",
       "      <td>0.0</td>\n",
       "    </tr>\n",
       "    <tr>\n",
       "      <th>host_has_profile_pic</th>\n",
       "      <td>14</td>\n",
       "      <td>0.0</td>\n",
       "    </tr>\n",
       "    <tr>\n",
       "      <th>host_identity_verified</th>\n",
       "      <td>14</td>\n",
       "      <td>0.0</td>\n",
       "    </tr>\n",
       "    <tr>\n",
       "      <th>host_is_superhost</th>\n",
       "      <td>14</td>\n",
       "      <td>0.0</td>\n",
       "    </tr>\n",
       "    <tr>\n",
       "      <th>id</th>\n",
       "      <td>0</td>\n",
       "      <td>0.0</td>\n",
       "    </tr>\n",
       "  </tbody>\n",
       "</table>\n",
       "</div>"
      ],
      "text/plain": [
       "                           num_missing  percent_missing\n",
       "bedrooms                          3696              9.0\n",
       "beds                               427              1.0\n",
       "host_listings_count                 14              0.0\n",
       "host_total_listings_count           14              0.0\n",
       "host_has_profile_pic                14              0.0\n",
       "host_identity_verified              14              0.0\n",
       "host_is_superhost                   14              0.0\n",
       "id                                   0              0.0"
      ]
     },
     "execution_count": 8,
     "metadata": {},
     "output_type": "execute_result"
    }
   ],
   "source": [
    "print('The size of the dataframe now:', listing.shape)\n",
    "missing_df = missing_statistics(listing)\n",
    "missing_df.head(8)"
   ]
  },
  {
   "cell_type": "markdown",
   "metadata": {},
   "source": [
    "The following values are replaced and we have no missing values"
   ]
  },
  {
   "cell_type": "code",
   "execution_count": 9,
   "metadata": {},
   "outputs": [
    {
     "name": "stdout",
     "output_type": "stream",
     "text": [
      "Filling host_is_superhost null values with most frequent value\n",
      "Filling host_listings_count null values with median value\n",
      "Filling host_total_listings_count null values with median value\n",
      "Filling host_has_profile_pic null values with most frequent value\n",
      "Filling host_identity_verified null values with most frequent value\n",
      "Filling bedrooms null values with median value\n",
      "Filling beds null values with median value\n"
     ]
    },
    {
     "data": {
      "text/plain": [
       "id                                              0\n",
       "host_is_superhost                               0\n",
       "host_listings_count                             0\n",
       "host_total_listings_count                       0\n",
       "host_has_profile_pic                            0\n",
       "host_identity_verified                          0\n",
       "neighbourhood_cleansed                          0\n",
       "neighbourhood_group_cleansed                    0\n",
       "latitude                                        0\n",
       "longitude                                       0\n",
       "property_type                                   0\n",
       "room_type                                       0\n",
       "accommodates                                    0\n",
       "bedrooms                                        0\n",
       "beds                                            0\n",
       "price                                           0\n",
       "minimum_nights                                  0\n",
       "maximum_nights                                  0\n",
       "minimum_minimum_nights                          0\n",
       "maximum_minimum_nights                          0\n",
       "minimum_maximum_nights                          0\n",
       "maximum_maximum_nights                          0\n",
       "has_availability                                0\n",
       "availability_30                                 0\n",
       "availability_60                                 0\n",
       "availability_90                                 0\n",
       "availability_365                                0\n",
       "number_of_reviews                               0\n",
       "number_of_reviews_ltm                           0\n",
       "number_of_reviews_l30d                          0\n",
       "instant_bookable                                0\n",
       "calculated_host_listings_count                  0\n",
       "calculated_host_listings_count_entire_homes     0\n",
       "calculated_host_listings_count_private_rooms    0\n",
       "calculated_host_listings_count_shared_rooms     0\n",
       "dtype: int64"
      ]
     },
     "execution_count": 9,
     "metadata": {},
     "output_type": "execute_result"
    }
   ],
   "source": [
    "from sklearn.impute import SimpleImputer\n",
    "\n",
    "missing_cols = ['host_is_superhost','host_listings_count','host_total_listings_count','host_has_profile_pic',\n",
    "                'host_identity_verified','bedrooms','beds']\n",
    "listing.isna().sum()\n",
    "\n",
    "def replace_missing_values(cols, df):\n",
    "    for col in cols:\n",
    "        if type(df[col].dtype) is pd.core.dtypes.dtypes.CategoricalDtype:\n",
    "            print(\"Filling {} null values with most frequent value\".format(col))\n",
    "            mode_imputer = SimpleImputer(strategy='most_frequent')\n",
    "            df.loc[:, col] = mode_imputer.fit_transform(df[[col]])\n",
    "        elif df[col].dtype == 'float64' or df[col].dtype == 'int64':\n",
    "            print(\"Filling {} null values with median value\".format(col))\n",
    "            median_imputer = SimpleImputer(strategy='median')\n",
    "            df.loc[:, col] = median_imputer.fit_transform(df[[col]])\n",
    "        else:\n",
    "            raise ValueError(\"Invalid column type\")\n",
    "    return df\n",
    "\n",
    "listing_full = replace_missing_values(missing_cols, listing)\n",
    "listing_full.isna().sum()"
   ]
  },
  {
   "cell_type": "markdown",
   "metadata": {},
   "source": [
    "As shown above, there is no missing values in the dataset"
   ]
  },
  {
   "cell_type": "markdown",
   "metadata": {},
   "source": [
    "#### Clean speical columns  \n",
    "\n",
    "The price column contains a special dollar symbol in it. Delete the special symbol"
   ]
  },
  {
   "cell_type": "code",
   "execution_count": 10,
   "metadata": {},
   "outputs": [
    {
     "data": {
      "text/plain": [
       "0    175.0\n",
       "2     60.0\n",
       "3    175.0\n",
       "4     73.0\n",
       "5     75.0\n",
       "Name: price, dtype: float64"
      ]
     },
     "execution_count": 10,
     "metadata": {},
     "output_type": "execute_result"
    }
   ],
   "source": [
    "import re\n",
    "listing_full['price'] = listing_full.price.apply(lambda x:re.sub(r'[$,]', '', x)).astype('float64')\n",
    "listing_full['price'].head()"
   ]
  },
  {
   "cell_type": "markdown",
   "metadata": {},
   "source": [
    "And we encode the price range \"low\", \"medium\", \"high\" into the dataframe"
   ]
  },
  {
   "cell_type": "code",
   "execution_count": 38,
   "metadata": {},
   "outputs": [
    {
     "data": {
      "text/html": [
       "<div>\n",
       "<style scoped>\n",
       "    .dataframe tbody tr th:only-of-type {\n",
       "        vertical-align: middle;\n",
       "    }\n",
       "\n",
       "    .dataframe tbody tr th {\n",
       "        vertical-align: top;\n",
       "    }\n",
       "\n",
       "    .dataframe thead th {\n",
       "        text-align: right;\n",
       "    }\n",
       "</style>\n",
       "<table border=\"1\" class=\"dataframe\">\n",
       "  <thead>\n",
       "    <tr style=\"text-align: right;\">\n",
       "      <th></th>\n",
       "      <th>id</th>\n",
       "      <th>host_is_superhost</th>\n",
       "      <th>host_listings_count</th>\n",
       "      <th>host_total_listings_count</th>\n",
       "      <th>host_has_profile_pic</th>\n",
       "      <th>host_identity_verified</th>\n",
       "      <th>neighbourhood_cleansed</th>\n",
       "      <th>neighbourhood_group_cleansed</th>\n",
       "      <th>latitude</th>\n",
       "      <th>longitude</th>\n",
       "      <th>...</th>\n",
       "      <th>availability_365</th>\n",
       "      <th>number_of_reviews</th>\n",
       "      <th>number_of_reviews_ltm</th>\n",
       "      <th>number_of_reviews_l30d</th>\n",
       "      <th>instant_bookable</th>\n",
       "      <th>calculated_host_listings_count</th>\n",
       "      <th>calculated_host_listings_count_entire_homes</th>\n",
       "      <th>calculated_host_listings_count_private_rooms</th>\n",
       "      <th>calculated_host_listings_count_shared_rooms</th>\n",
       "      <th>price_category</th>\n",
       "    </tr>\n",
       "  </thead>\n",
       "  <tbody>\n",
       "    <tr>\n",
       "      <th>0</th>\n",
       "      <td>2595</td>\n",
       "      <td>f</td>\n",
       "      <td>6.0</td>\n",
       "      <td>6.0</td>\n",
       "      <td>t</td>\n",
       "      <td>t</td>\n",
       "      <td>Midtown</td>\n",
       "      <td>Manhattan</td>\n",
       "      <td>40.75362</td>\n",
       "      <td>-73.98377</td>\n",
       "      <td>...</td>\n",
       "      <td>365</td>\n",
       "      <td>48</td>\n",
       "      <td>1</td>\n",
       "      <td>0</td>\n",
       "      <td>f</td>\n",
       "      <td>2</td>\n",
       "      <td>2</td>\n",
       "      <td>0</td>\n",
       "      <td>0</td>\n",
       "      <td>medium</td>\n",
       "    </tr>\n",
       "    <tr>\n",
       "      <th>2</th>\n",
       "      <td>5121</td>\n",
       "      <td>f</td>\n",
       "      <td>1.0</td>\n",
       "      <td>1.0</td>\n",
       "      <td>t</td>\n",
       "      <td>t</td>\n",
       "      <td>Bedford-Stuyvesant</td>\n",
       "      <td>Brooklyn</td>\n",
       "      <td>40.68688</td>\n",
       "      <td>-73.95596</td>\n",
       "      <td>...</td>\n",
       "      <td>2</td>\n",
       "      <td>50</td>\n",
       "      <td>1</td>\n",
       "      <td>0</td>\n",
       "      <td>f</td>\n",
       "      <td>1</td>\n",
       "      <td>0</td>\n",
       "      <td>1</td>\n",
       "      <td>0</td>\n",
       "      <td>medium</td>\n",
       "    </tr>\n",
       "    <tr>\n",
       "      <th>3</th>\n",
       "      <td>5136</td>\n",
       "      <td>f</td>\n",
       "      <td>1.0</td>\n",
       "      <td>1.0</td>\n",
       "      <td>t</td>\n",
       "      <td>f</td>\n",
       "      <td>Sunset Park</td>\n",
       "      <td>Brooklyn</td>\n",
       "      <td>40.66120</td>\n",
       "      <td>-73.99423</td>\n",
       "      <td>...</td>\n",
       "      <td>359</td>\n",
       "      <td>1</td>\n",
       "      <td>0</td>\n",
       "      <td>0</td>\n",
       "      <td>f</td>\n",
       "      <td>1</td>\n",
       "      <td>1</td>\n",
       "      <td>0</td>\n",
       "      <td>0</td>\n",
       "      <td>medium</td>\n",
       "    </tr>\n",
       "    <tr>\n",
       "      <th>4</th>\n",
       "      <td>5178</td>\n",
       "      <td>f</td>\n",
       "      <td>1.0</td>\n",
       "      <td>1.0</td>\n",
       "      <td>t</td>\n",
       "      <td>f</td>\n",
       "      <td>Hell's Kitchen</td>\n",
       "      <td>Manhattan</td>\n",
       "      <td>40.76489</td>\n",
       "      <td>-73.98493</td>\n",
       "      <td>...</td>\n",
       "      <td>350</td>\n",
       "      <td>473</td>\n",
       "      <td>25</td>\n",
       "      <td>0</td>\n",
       "      <td>f</td>\n",
       "      <td>1</td>\n",
       "      <td>0</td>\n",
       "      <td>1</td>\n",
       "      <td>0</td>\n",
       "      <td>medium</td>\n",
       "    </tr>\n",
       "    <tr>\n",
       "      <th>5</th>\n",
       "      <td>5203</td>\n",
       "      <td>f</td>\n",
       "      <td>1.0</td>\n",
       "      <td>1.0</td>\n",
       "      <td>t</td>\n",
       "      <td>t</td>\n",
       "      <td>Upper West Side</td>\n",
       "      <td>Manhattan</td>\n",
       "      <td>40.80178</td>\n",
       "      <td>-73.96723</td>\n",
       "      <td>...</td>\n",
       "      <td>0</td>\n",
       "      <td>118</td>\n",
       "      <td>0</td>\n",
       "      <td>0</td>\n",
       "      <td>f</td>\n",
       "      <td>1</td>\n",
       "      <td>0</td>\n",
       "      <td>1</td>\n",
       "      <td>0</td>\n",
       "      <td>medium</td>\n",
       "    </tr>\n",
       "  </tbody>\n",
       "</table>\n",
       "<p>5 rows × 36 columns</p>\n",
       "</div>"
      ],
      "text/plain": [
       "     id host_is_superhost  host_listings_count  host_total_listings_count  \\\n",
       "0  2595                 f                  6.0                        6.0   \n",
       "2  5121                 f                  1.0                        1.0   \n",
       "3  5136                 f                  1.0                        1.0   \n",
       "4  5178                 f                  1.0                        1.0   \n",
       "5  5203                 f                  1.0                        1.0   \n",
       "\n",
       "  host_has_profile_pic host_identity_verified neighbourhood_cleansed  \\\n",
       "0                    t                      t                Midtown   \n",
       "2                    t                      t     Bedford-Stuyvesant   \n",
       "3                    t                      f            Sunset Park   \n",
       "4                    t                      f         Hell's Kitchen   \n",
       "5                    t                      t        Upper West Side   \n",
       "\n",
       "  neighbourhood_group_cleansed  latitude  longitude  ... availability_365  \\\n",
       "0                    Manhattan  40.75362  -73.98377  ...              365   \n",
       "2                     Brooklyn  40.68688  -73.95596  ...                2   \n",
       "3                     Brooklyn  40.66120  -73.99423  ...              359   \n",
       "4                    Manhattan  40.76489  -73.98493  ...              350   \n",
       "5                    Manhattan  40.80178  -73.96723  ...                0   \n",
       "\n",
       "  number_of_reviews  number_of_reviews_ltm  number_of_reviews_l30d  \\\n",
       "0                48                      1                       0   \n",
       "2                50                      1                       0   \n",
       "3                 1                      0                       0   \n",
       "4               473                     25                       0   \n",
       "5               118                      0                       0   \n",
       "\n",
       "   instant_bookable  calculated_host_listings_count  \\\n",
       "0                 f                               2   \n",
       "2                 f                               1   \n",
       "3                 f                               1   \n",
       "4                 f                               1   \n",
       "5                 f                               1   \n",
       "\n",
       "   calculated_host_listings_count_entire_homes  \\\n",
       "0                                            2   \n",
       "2                                            0   \n",
       "3                                            1   \n",
       "4                                            0   \n",
       "5                                            0   \n",
       "\n",
       "   calculated_host_listings_count_private_rooms  \\\n",
       "0                                             0   \n",
       "2                                             1   \n",
       "3                                             0   \n",
       "4                                             1   \n",
       "5                                             1   \n",
       "\n",
       "   calculated_host_listings_count_shared_rooms  price_category  \n",
       "0                                            0          medium  \n",
       "2                                            0          medium  \n",
       "3                                            0          medium  \n",
       "4                                            0          medium  \n",
       "5                                            0          medium  \n",
       "\n",
       "[5 rows x 36 columns]"
      ]
     },
     "execution_count": 38,
     "metadata": {},
     "output_type": "execute_result"
    }
   ],
   "source": [
    "listing_temp = listing_full.copy()\n",
    "\n",
    "# get the indices of low, med and high rows\n",
    "low_indexes = listing_temp[listing_temp.price < 50].index\n",
    "med_indexes = listing_temp[(listing_temp.price >= 50) & (listing_temp.price < 200)].index\n",
    "high_indexes = listing_temp[(listing_temp.price >= 200)].index\n",
    "listing_temp.loc[low_indexes, 'price_category'] = 'low'\n",
    "listing_temp.loc[med_indexes, 'price_category'] = 'medium'\n",
    "listing_temp.loc[high_indexes, 'price_category'] = 'high'\n",
    "listing_temp.head()"
   ]
  },
  {
   "cell_type": "code",
   "execution_count": 11,
   "metadata": {},
   "outputs": [],
   "source": [
    "cate = ['host_is_superhost','host_has_profile_pic','host_identity_verified','neighbourhood_cleansed','neighbourhood_group_cleansed',]\n",
    "category_one_hot_encoding = pd.get_dummies(listing_full[cate])\n",
    "# listing_full.head()\n",
    "listing_full_cate = pd.concat([listing_full, category_one_hot_encoding],\n",
    "                            axis='columns').drop(cate,axis='columns')"
   ]
  },
  {
   "cell_type": "markdown",
   "metadata": {},
   "source": [
    "## Methods and Results\n",
    "\n",
    "I choose all the float and int type feature I processed so far. Beacuese I believed that they all related to the price of the listing. I will first do dimension reduction with PCA and using the result to do clustering analysis."
   ]
  },
  {
   "cell_type": "markdown",
   "metadata": {},
   "source": [
    "### PCA Analysis\n",
    "\n",
    "Normalizing the feature and perform PCA analysis on all the float and int features. "
   ]
  },
  {
   "cell_type": "code",
   "execution_count": 24,
   "metadata": {},
   "outputs": [],
   "source": [
    "from sklearn.preprocessing import StandardScaler\n",
    "\n",
    "listing_pca = listing_full_cate.select_dtypes(include=['float64','int64'])\n",
    "# Standardizing the features\n",
    "listing_pca = StandardScaler().fit_transform(listing_pca)"
   ]
  },
  {
   "cell_type": "code",
   "execution_count": 25,
   "metadata": {},
   "outputs": [
    {
     "data": {
      "text/plain": [
       "<matplotlib.collections.PathCollection at 0x105a9a790>"
      ]
     },
     "execution_count": 25,
     "metadata": {},
     "output_type": "execute_result"
    },
    {
     "data": {
      "image/png": "[encoded data removed]",
      "text/plain": [
       "<Figure size 432x288 with 1 Axes>"
      ]
     },
     "metadata": {
      "needs_background": "light"
     },
     "output_type": "display_data"
    }
   ],
   "source": [
    "from sklearn.decomposition import PCA\n",
    "pca = PCA(n_components=2)\n",
    "pca_data = pca.fit_transform(listing_pca)\n",
    "principalDf = pd.DataFrame(data = pca_data, columns = ['principal component 1', 'principal component 2'])\n",
    "plt.scatter(principalDf['principal component 1'],principalDf['principal component 2'])\n"
   ]
  },
  {
   "cell_type": "code",
   "execution_count": 56,
   "metadata": {},
   "outputs": [
    {
     "data": {
      "text/plain": [
       "Text(0, 0.5, 'Cummulative Explained Variance')"
      ]
     },
     "execution_count": 56,
     "metadata": {},
     "output_type": "execute_result"
    },
    {
     "data": {
      "image/png": "[encoded data removed]",
      "text/plain": [
       "<Figure size 432x288 with 1 Axes>"
      ]
     },
     "metadata": {
      "needs_background": "light"
     },
     "output_type": "display_data"
    }
   ],
   "source": [
    "from sklearn.decomposition import PCA\n",
    "\n",
    "pca = PCA(n_components=15)\n",
    "pca.fit(listing_pca)\n",
    "PCA(copy=True, iterated_power='auto', n_components=5, random_state=None,\n",
    "    svd_solver='auto', tol=0.0, whiten=False)\n",
    "features = range(pca.n_components_)\n",
    "components = np.arange(1,16)\n",
    "plt.plot(components, np.cumsum(pca.explained_variance_ratio_)) \n",
    "plt.xlabel('Number of Components')\n",
    "plt.title('Scree plot for PCA')\n",
    "plt.ylabel('Cummulative Explained Variance')"
   ]
  },
  {
   "cell_type": "code",
   "execution_count": 71,
   "metadata": {},
   "outputs": [
    {
     "data": {
      "text/plain": [
       "(39339, 2)"
      ]
     },
     "execution_count": 71,
     "metadata": {},
     "output_type": "execute_result"
    }
   ],
   "source": [
    "pca_features = pca.transform(listing_pca)\n",
    "pca_features.shape"
   ]
  },
  {
   "cell_type": "code",
   "execution_count": 72,
   "metadata": {},
   "outputs": [
    {
     "data": {
      "text/html": [
       "<div>\n",
       "<style scoped>\n",
       "    .dataframe tbody tr th:only-of-type {\n",
       "        vertical-align: middle;\n",
       "    }\n",
       "\n",
       "    .dataframe tbody tr th {\n",
       "        vertical-align: top;\n",
       "    }\n",
       "\n",
       "    .dataframe thead th {\n",
       "        text-align: right;\n",
       "    }\n",
       "</style>\n",
       "<table border=\"1\" class=\"dataframe\">\n",
       "  <thead>\n",
       "    <tr style=\"text-align: right;\">\n",
       "      <th></th>\n",
       "      <th>0</th>\n",
       "      <th>1</th>\n",
       "    </tr>\n",
       "  </thead>\n",
       "  <tbody>\n",
       "    <tr>\n",
       "      <th>0</th>\n",
       "      <td>0.415566</td>\n",
       "      <td>2.750005</td>\n",
       "    </tr>\n",
       "    <tr>\n",
       "      <th>1</th>\n",
       "      <td>-0.388935</td>\n",
       "      <td>-1.426182</td>\n",
       "    </tr>\n",
       "    <tr>\n",
       "      <th>2</th>\n",
       "      <td>0.333888</td>\n",
       "      <td>2.662819</td>\n",
       "    </tr>\n",
       "    <tr>\n",
       "      <th>3</th>\n",
       "      <td>-0.183323</td>\n",
       "      <td>4.380942</td>\n",
       "    </tr>\n",
       "    <tr>\n",
       "      <th>4</th>\n",
       "      <td>-0.976969</td>\n",
       "      <td>-1.456083</td>\n",
       "    </tr>\n",
       "  </tbody>\n",
       "</table>\n",
       "</div>"
      ],
      "text/plain": [
       "          0         1\n",
       "0  0.415566  2.750005\n",
       "1 -0.388935 -1.426182\n",
       "2  0.333888  2.662819\n",
       "3 -0.183323  4.380942\n",
       "4 -0.976969 -1.456083"
      ]
     },
     "execution_count": 72,
     "metadata": {},
     "output_type": "execute_result"
    }
   ],
   "source": [
    "pca_df = pd.DataFrame(pca_features)\n",
    "pca_df.head()"
   ]
  },
  {
   "cell_type": "markdown",
   "metadata": {},
   "source": [
    "#### Fit K-means for K=1...20 clusters and use Elbow Method"
   ]
  },
  {
   "cell_type": "code",
   "execution_count": 73,
   "metadata": {},
   "outputs": [
    {
     "data": {
      "image/png": "[encoded data removed]",
      "text/plain": [
       "<Figure size 432x288 with 1 Axes>"
      ]
     },
     "metadata": {
      "needs_background": "light"
     },
     "output_type": "display_data"
    }
   ],
   "source": [
    "from sklearn.cluster import KMeans\n",
    "import seaborn as sns\n",
    "\n",
    "sse = {}\n",
    "for k in range(1, 21):\n",
    "    kmeans = KMeans(n_clusters=k, random_state=1)\n",
    "    kmeans.fit(pca_df)\n",
    "    sse[k] = kmeans.inertia_\n",
    "plt.title('The Elbow Method')\n",
    "plt.xlabel('k')\n",
    "plt.ylabel('SSE')\n",
    "sns.pointplot(x=list(sse.keys()), y=list(sse.values()))\n",
    "plt.show()    "
   ]
  },
  {
   "cell_type": "markdown",
   "metadata": {},
   "source": [
    "Look at the above Elbow plot, we can see that for K-values of 2 and 3, there is a sharp decrease in SSE. I choose the value of K=3 for further analysis of the cluster"
   ]
  },
  {
   "cell_type": "code",
   "execution_count": 74,
   "metadata": {},
   "outputs": [],
   "source": [
    "# perform K-means with K = 3\n",
    "kmeans = KMeans(n_clusters=3, random_state=1)\n",
    "kmeans.fit(pca_df)\n",
    "KMeans(algorithm='auto', copy_x=True, init='k-means++', max_iter=300,\n",
    "       n_clusters=3, n_init=10, n_jobs=None, precompute_distances='auto',\n",
    "       random_state=1, tol=0.0001, verbose=0)\n",
    "# get the labels\n",
    "cluster_labels = kmeans.labels_\n",
    "\n",
    "# assign these clusters back into the dataframe\n",
    "pca_df_k3 = pca_df.assign(cluster=cluster_labels)"
   ]
  },
  {
   "cell_type": "markdown",
   "metadata": {},
   "source": [
    "As shown by the following contigency table, the clusters aren't giving out satisfactory classification of the price range of a listing given the feature selected by the PCA."
   ]
  },
  {
   "cell_type": "code",
   "execution_count": 76,
   "metadata": {},
   "outputs": [
    {
     "data": {
      "text/html": [
       "<div>\n",
       "<style scoped>\n",
       "    .dataframe tbody tr th:only-of-type {\n",
       "        vertical-align: middle;\n",
       "    }\n",
       "\n",
       "    .dataframe tbody tr th {\n",
       "        vertical-align: top;\n",
       "    }\n",
       "\n",
       "    .dataframe thead th {\n",
       "        text-align: right;\n",
       "    }\n",
       "</style>\n",
       "<table border=\"1\" class=\"dataframe\">\n",
       "  <thead>\n",
       "    <tr style=\"text-align: right;\">\n",
       "      <th>cluster</th>\n",
       "      <th>0</th>\n",
       "      <th>1</th>\n",
       "      <th>2</th>\n",
       "    </tr>\n",
       "    <tr>\n",
       "      <th>price_category</th>\n",
       "      <th></th>\n",
       "      <th></th>\n",
       "      <th></th>\n",
       "    </tr>\n",
       "  </thead>\n",
       "  <tbody>\n",
       "    <tr>\n",
       "      <th>high</th>\n",
       "      <td>3563</td>\n",
       "      <td>2431</td>\n",
       "      <td>219</td>\n",
       "    </tr>\n",
       "    <tr>\n",
       "      <th>low</th>\n",
       "      <td>3615</td>\n",
       "      <td>1619</td>\n",
       "      <td>0</td>\n",
       "    </tr>\n",
       "    <tr>\n",
       "      <th>medium</th>\n",
       "      <td>18711</td>\n",
       "      <td>9151</td>\n",
       "      <td>30</td>\n",
       "    </tr>\n",
       "  </tbody>\n",
       "</table>\n",
       "</div>"
      ],
      "text/plain": [
       "cluster             0     1    2\n",
       "price_category                  \n",
       "high             3563  2431  219\n",
       "low              3615  1619    0\n",
       "medium          18711  9151   30"
      ]
     },
     "execution_count": 76,
     "metadata": {},
     "output_type": "execute_result"
    }
   ],
   "source": [
    "k_means_visual = listing_temp[['price_category','id',\n",
    "                             'price',\n",
    "                             'minimum_nights',\n",
    "                             'neighbourhood_group_cleansed',\n",
    "                             'neighbourhood_cleansed']]\n",
    "k_means_visual.shape\n",
    "k_means_visual = k_means_visual.assign(cluster=cluster_labels)\n",
    "pd.crosstab(k_means_visual['price_category'], k_means_visual['cluster'])"
   ]
  },
  {
   "cell_type": "markdown",
   "metadata": {},
   "source": [
    "## Discussion and Conclusion\n",
    "\n",
    "In this analysis, I didn't find a good enough clustering for the price range. Even after data cleaning and PCA dimension reduction, there was no clear evidence that any feature would be a good indicator of the clustering. I think the limited result is from the amibiguity of the feature meaning in the dataset. And thus it is hard to make original choice of features. In order to make better clustering, I should examine every feature more carefully and incorporate more data into the analysis."
   ]
  },
  {
   "cell_type": "code",
   "execution_count": null,
   "metadata": {},
   "outputs": [],
   "source": []
  }
 ],
 "metadata": {
  "kernelspec": {
   "display_name": "Python 3",
   "language": "python",
   "name": "python3"
  },
  "language_info": {
   "codemirror_mode": {
    "name": "ipython",
    "version": 3
   },
   "file_extension": ".py",
   "mimetype": "text/x-python",
   "name": "python",
   "nbconvert_exporter": "python",
   "pygments_lexer": "ipython3",
   "version": "3.8.5"
  }
 },
 "nbformat": 4,
 "nbformat_minor": 2
}
