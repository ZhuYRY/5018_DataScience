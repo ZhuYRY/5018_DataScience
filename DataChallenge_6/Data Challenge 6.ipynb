{
 "cells": [
  {
   "cell_type": "markdown",
   "metadata": {},
   "source": [
    "# Data Challenge 6\n",
    "\n",
    "Yanruyu Zhu(yaz4004)"
   ]
  },
  {
   "cell_type": "markdown",
   "metadata": {},
   "source": [
    "### Exploring data and data cleaning"
   ]
  },
  {
   "cell_type": "code",
   "execution_count": 1,
   "metadata": {},
   "outputs": [
    {
     "data": {
      "text/html": [
       "\n",
       "<script src='//code.jquery.com/jquery-3.3.1.min.js'></script>\n",
       "<script>\n",
       "code_show=true;\n",
       "function code_toggle() {\n",
       "if (code_show){\n",
       "$('div.input').hide();\n",
       "$('div .jp-CodeCell .jp-Cell-inputWrapper').hide();\n",
       "} else {\n",
       "$('div.input').show();\n",
       "$('div .jp-CodeCell .jp-Cell-inputWrapper').show();\n",
       "}\n",
       "code_show = !code_show\n",
       "}\n",
       "$( document ).ready(code_toggle);\n",
       "</script>\n",
       "<form action=\"javascript:code_toggle()\">\n",
       "<input type=\"submit\" value=\"Code on/off\"></form>"
      ],
      "text/plain": [
       "<IPython.core.display.HTML object>"
      ]
     },
     "execution_count": 1,
     "metadata": {},
     "output_type": "execute_result"
    }
   ],
   "source": [
    "from IPython.display import HTML\n",
    "HTML('''\n",
    "<script src='//code.jquery.com/jquery-3.3.1.min.js'></script>\n",
    "<script>\n",
    "code_show=true;\n",
    "function code_toggle() {\n",
    "if (code_show){\n",
    "$('div.input').hide();\n",
    "$('div .jp-CodeCell .jp-Cell-inputWrapper').hide();\n",
    "} else {\n",
    "$('div.input').show();\n",
    "$('div .jp-CodeCell .jp-Cell-inputWrapper').show();\n",
    "}\n",
    "code_show = !code_show\n",
    "}\n",
    "$( document ).ready(code_toggle);\n",
    "</script>\n",
    "<form action=\"javascript:code_toggle()\">\n",
    "<input type=\"submit\" value=\"Code on/off\"></form>''')"
   ]
  },
  {
   "cell_type": "code",
   "execution_count": 133,
   "metadata": {},
   "outputs": [],
   "source": [
    "# import required libarary\n",
    "import pandas as pd\n",
    "import numpy as np\n",
    "import matplotlib.pyplot as plt"
   ]
  },
  {
   "cell_type": "markdown",
   "metadata": {},
   "source": [
    " #### Drop columns that are not relevant to the problem."
   ]
  },
  {
   "cell_type": "code",
   "execution_count": 134,
   "metadata": {},
   "outputs": [
    {
     "name": "stdout",
     "output_type": "stream",
     "text": [
      "Shape of the dataset before dropping:  (44666, 74)\n",
      "Dropping 24 columns\n",
      "Shape of the dataset after dropping:  (44666, 50)\n"
     ]
    }
   ],
   "source": [
    "\n",
    "# listing = pd.read_csv('listings.csv')\n",
    "listing = pd.read_csv('NYC.csv')\n",
    "objects = listing.select_dtypes(include=['object']).columns\n",
    "drop_object = ['name',\n",
    "               'host_verifications',\n",
    "               'description',\n",
    "             'listing_url',\n",
    "             'last_scraped',\n",
    "             'picture_url',\n",
    "             'host_url',\n",
    "             'host_name',\n",
    "             'host_since',\n",
    "             'host_location',\n",
    "             'host_about',\n",
    "             'host_thumbnail_url',\n",
    "             'host_picture_url',\n",
    "             'host_neighbourhood',\n",
    "             'neighbourhood',\n",
    "             'calendar_last_scraped',\n",
    "             'first_review',\n",
    "             'last_review',\n",
    "              'bathrooms_text',\n",
    "              'amenities']\n",
    "floats = listing.select_dtypes(include=['float64']).columns\n",
    "drop_float = ['minimum_nights_avg_ntm',\n",
    "              'maximum_nights_avg_ntm']\n",
    "ints = listing.select_dtypes(include=['int64']).columns\n",
    "drop_int = ['scrape_id',\n",
    "            'host_id']\n",
    "drop_cols = drop_object + drop_float + drop_int\n",
    "print(\"Shape of the dataset before dropping: \", listing.shape)\n",
    "print(\"Dropping {} columns\".format(len(drop_cols)))\n",
    "listing = listing.drop(columns = drop_cols)\n",
    "print(\"Shape of the dataset after dropping: \", listing.shape)\n",
    "\n",
    "# nyc = pd.read_csv('NYC.csv')\n",
    "# nyc.iloc[0,:]"
   ]
  },
  {
   "cell_type": "markdown",
   "metadata": {},
   "source": [
    "#### Drop columns which have more than 20% missing data"
   ]
  },
  {
   "cell_type": "code",
   "execution_count": 135,
   "metadata": {},
   "outputs": [
    {
     "name": "stdout",
     "output_type": "stream",
     "text": [
      "Shape of the dataset before dropping:  (44666, 50)\n",
      "Dropping 15 columns\n",
      "Shape of the dataset after dropping:  (44666, 35)\n"
     ]
    }
   ],
   "source": [
    "def missing_statistics(df):\n",
    "    missing_stats = df.isnull().sum().to_frame()\n",
    "    missing_stats.columns = ['num_missing']\n",
    "    missing_stats['percent_missing'] = np.round(100 * (missing_stats['num_missing'] / df.shape[0]))\n",
    "    missing_stats.sort_values(by='num_missing', ascending=False, inplace=True)\n",
    "    return missing_stats\n",
    "num_missing = missing_statistics(listing)\n",
    "num_missing\n",
    "drop_cols = list(num_missing[num_missing.percent_missing > 20].index)\n",
    "print(\"Shape of the dataset before dropping: \", listing.shape)\n",
    "print(\"Dropping {} columns\".format(len(drop_cols)))\n",
    "listing = listing.drop(columns = drop_cols)\n",
    "print(\"Shape of the dataset after dropping: \", listing.shape)\n"
   ]
  },
  {
   "cell_type": "markdown",
   "metadata": {},
   "source": [
    "#### Convert object types to categorical and boolean variables"
   ]
  },
  {
   "cell_type": "code",
   "execution_count": 136,
   "metadata": {},
   "outputs": [
    {
     "data": {
      "text/plain": [
       "host_is_superhost         category\n",
       "host_has_profile_pic      category\n",
       "host_identity_verified    category\n",
       "property_type             category\n",
       "room_type                 category\n",
       "has_availability          category\n",
       "instant_bookable          category\n",
       "dtype: object"
      ]
     },
     "execution_count": 136,
     "metadata": {},
     "output_type": "execute_result"
    }
   ],
   "source": [
    "categorical_types = ['host_is_superhost',\n",
    "                     'host_has_profile_pic',\n",
    "                     'host_identity_verified',\n",
    "                     'property_type',\n",
    "                     'room_type',\n",
    "                     'has_availability',\n",
    "                     'instant_bookable',]\n",
    "                     \n",
    "# listing[categorical_types].dtypes\n",
    "listing[categorical_types] = listing[categorical_types].apply(lambda x: x.astype('category'),axis='rows')\n",
    "listing[categorical_types].dtypes"
   ]
  },
  {
   "cell_type": "markdown",
   "metadata": {},
   "source": [
    "#### Subseting the categorical values"
   ]
  },
  {
   "cell_type": "code",
   "execution_count": 137,
   "metadata": {},
   "outputs": [
    {
     "name": "stdout",
     "output_type": "stream",
     "text": [
      "host_is_superhost          2\n",
      "host_has_profile_pic       2\n",
      "host_identity_verified     2\n",
      "property_type             84\n",
      "room_type                  4\n",
      "has_availability           2\n",
      "instant_bookable           2\n",
      "dtype: int64\n"
     ]
    },
    {
     "data": {
      "image/png": "[encoded data removed]",
      "text/plain": [
       "<Figure size 432x432 with 1 Axes>"
      ]
     },
     "metadata": {
      "needs_background": "light"
     },
     "output_type": "display_data"
    }
   ],
   "source": [
    "num_unique_values = listing[categorical_types].apply(pd.Series.nunique, axis='rows')\n",
    "print(num_unique_values)\n",
    "# Plot number of unique values for each label\n",
    "num_unique_values.plot(kind='bar',figsize = [6,6])\n",
    "# Label the axes\n",
    "plt.xlabel('Labels')\n",
    "plt.ylabel('Number of unique values')\n",
    "# Display the plot\n",
    "plt.show()"
   ]
  },
  {
   "cell_type": "code",
   "execution_count": 138,
   "metadata": {},
   "outputs": [
    {
     "data": {
      "text/plain": [
       "Entire apartment             18579\n",
       "Private room in apartment    15347\n",
       "Private room in house         2247\n",
       "Private room in townhouse     1073\n",
       "Entire house                  1065\n",
       "Entire condominium            1028\n",
       "Name: property_type, dtype: int64"
      ]
     },
     "execution_count": 138,
     "metadata": {},
     "output_type": "execute_result"
    }
   ],
   "source": [
    "listing = listing[listing.property_type.isin(['Entire apartment', 'Private room in apartment', 'Private room in house', 'Private room in townhouse','Entire house','Entire condominium'])]\n",
    "listing = listing.copy()\n",
    "listing.loc[:, 'property_type'] = listing.loc[:,'property_type'].cat.remove_unused_categories()\n",
    "listing.property_type.value_counts()"
   ]
  },
  {
   "cell_type": "code",
   "execution_count": 139,
   "metadata": {},
   "outputs": [
    {
     "name": "stdout",
     "output_type": "stream",
     "text": [
      "The size of the dataframe now: (39339, 35)\n"
     ]
    },
    {
     "data": {
      "text/html": [
       "<div>\n",
       "<style scoped>\n",
       "    .dataframe tbody tr th:only-of-type {\n",
       "        vertical-align: middle;\n",
       "    }\n",
       "\n",
       "    .dataframe tbody tr th {\n",
       "        vertical-align: top;\n",
       "    }\n",
       "\n",
       "    .dataframe thead th {\n",
       "        text-align: right;\n",
       "    }\n",
       "</style>\n",
       "<table border=\"1\" class=\"dataframe\">\n",
       "  <thead>\n",
       "    <tr style=\"text-align: right;\">\n",
       "      <th></th>\n",
       "      <th>num_missing</th>\n",
       "      <th>percent_missing</th>\n",
       "    </tr>\n",
       "  </thead>\n",
       "  <tbody>\n",
       "    <tr>\n",
       "      <th>bedrooms</th>\n",
       "      <td>3696</td>\n",
       "      <td>9.0</td>\n",
       "    </tr>\n",
       "    <tr>\n",
       "      <th>beds</th>\n",
       "      <td>427</td>\n",
       "      <td>1.0</td>\n",
       "    </tr>\n",
       "    <tr>\n",
       "      <th>host_listings_count</th>\n",
       "      <td>14</td>\n",
       "      <td>0.0</td>\n",
       "    </tr>\n",
       "    <tr>\n",
       "      <th>host_total_listings_count</th>\n",
       "      <td>14</td>\n",
       "      <td>0.0</td>\n",
       "    </tr>\n",
       "    <tr>\n",
       "      <th>host_has_profile_pic</th>\n",
       "      <td>14</td>\n",
       "      <td>0.0</td>\n",
       "    </tr>\n",
       "    <tr>\n",
       "      <th>host_identity_verified</th>\n",
       "      <td>14</td>\n",
       "      <td>0.0</td>\n",
       "    </tr>\n",
       "    <tr>\n",
       "      <th>host_is_superhost</th>\n",
       "      <td>14</td>\n",
       "      <td>0.0</td>\n",
       "    </tr>\n",
       "    <tr>\n",
       "      <th>id</th>\n",
       "      <td>0</td>\n",
       "      <td>0.0</td>\n",
       "    </tr>\n",
       "    <tr>\n",
       "      <th>availability_30</th>\n",
       "      <td>0</td>\n",
       "      <td>0.0</td>\n",
       "    </tr>\n",
       "    <tr>\n",
       "      <th>availability_60</th>\n",
       "      <td>0</td>\n",
       "      <td>0.0</td>\n",
       "    </tr>\n",
       "    <tr>\n",
       "      <th>availability_90</th>\n",
       "      <td>0</td>\n",
       "      <td>0.0</td>\n",
       "    </tr>\n",
       "    <tr>\n",
       "      <th>availability_365</th>\n",
       "      <td>0</td>\n",
       "      <td>0.0</td>\n",
       "    </tr>\n",
       "    <tr>\n",
       "      <th>number_of_reviews_l30d</th>\n",
       "      <td>0</td>\n",
       "      <td>0.0</td>\n",
       "    </tr>\n",
       "    <tr>\n",
       "      <th>number_of_reviews</th>\n",
       "      <td>0</td>\n",
       "      <td>0.0</td>\n",
       "    </tr>\n",
       "    <tr>\n",
       "      <th>number_of_reviews_ltm</th>\n",
       "      <td>0</td>\n",
       "      <td>0.0</td>\n",
       "    </tr>\n",
       "    <tr>\n",
       "      <th>maximum_maximum_nights</th>\n",
       "      <td>0</td>\n",
       "      <td>0.0</td>\n",
       "    </tr>\n",
       "    <tr>\n",
       "      <th>instant_bookable</th>\n",
       "      <td>0</td>\n",
       "      <td>0.0</td>\n",
       "    </tr>\n",
       "    <tr>\n",
       "      <th>calculated_host_listings_count</th>\n",
       "      <td>0</td>\n",
       "      <td>0.0</td>\n",
       "    </tr>\n",
       "    <tr>\n",
       "      <th>calculated_host_listings_count_entire_homes</th>\n",
       "      <td>0</td>\n",
       "      <td>0.0</td>\n",
       "    </tr>\n",
       "    <tr>\n",
       "      <th>calculated_host_listings_count_private_rooms</th>\n",
       "      <td>0</td>\n",
       "      <td>0.0</td>\n",
       "    </tr>\n",
       "    <tr>\n",
       "      <th>has_availability</th>\n",
       "      <td>0</td>\n",
       "      <td>0.0</td>\n",
       "    </tr>\n",
       "    <tr>\n",
       "      <th>maximum_nights</th>\n",
       "      <td>0</td>\n",
       "      <td>0.0</td>\n",
       "    </tr>\n",
       "    <tr>\n",
       "      <th>minimum_maximum_nights</th>\n",
       "      <td>0</td>\n",
       "      <td>0.0</td>\n",
       "    </tr>\n",
       "    <tr>\n",
       "      <th>maximum_minimum_nights</th>\n",
       "      <td>0</td>\n",
       "      <td>0.0</td>\n",
       "    </tr>\n",
       "    <tr>\n",
       "      <th>minimum_minimum_nights</th>\n",
       "      <td>0</td>\n",
       "      <td>0.0</td>\n",
       "    </tr>\n",
       "    <tr>\n",
       "      <th>minimum_nights</th>\n",
       "      <td>0</td>\n",
       "      <td>0.0</td>\n",
       "    </tr>\n",
       "    <tr>\n",
       "      <th>price</th>\n",
       "      <td>0</td>\n",
       "      <td>0.0</td>\n",
       "    </tr>\n",
       "    <tr>\n",
       "      <th>accommodates</th>\n",
       "      <td>0</td>\n",
       "      <td>0.0</td>\n",
       "    </tr>\n",
       "    <tr>\n",
       "      <th>room_type</th>\n",
       "      <td>0</td>\n",
       "      <td>0.0</td>\n",
       "    </tr>\n",
       "    <tr>\n",
       "      <th>property_type</th>\n",
       "      <td>0</td>\n",
       "      <td>0.0</td>\n",
       "    </tr>\n",
       "    <tr>\n",
       "      <th>longitude</th>\n",
       "      <td>0</td>\n",
       "      <td>0.0</td>\n",
       "    </tr>\n",
       "    <tr>\n",
       "      <th>latitude</th>\n",
       "      <td>0</td>\n",
       "      <td>0.0</td>\n",
       "    </tr>\n",
       "    <tr>\n",
       "      <th>neighbourhood_group_cleansed</th>\n",
       "      <td>0</td>\n",
       "      <td>0.0</td>\n",
       "    </tr>\n",
       "    <tr>\n",
       "      <th>neighbourhood_cleansed</th>\n",
       "      <td>0</td>\n",
       "      <td>0.0</td>\n",
       "    </tr>\n",
       "    <tr>\n",
       "      <th>calculated_host_listings_count_shared_rooms</th>\n",
       "      <td>0</td>\n",
       "      <td>0.0</td>\n",
       "    </tr>\n",
       "  </tbody>\n",
       "</table>\n",
       "</div>"
      ],
      "text/plain": [
       "                                              num_missing  percent_missing\n",
       "bedrooms                                             3696              9.0\n",
       "beds                                                  427              1.0\n",
       "host_listings_count                                    14              0.0\n",
       "host_total_listings_count                              14              0.0\n",
       "host_has_profile_pic                                   14              0.0\n",
       "host_identity_verified                                 14              0.0\n",
       "host_is_superhost                                      14              0.0\n",
       "id                                                      0              0.0\n",
       "availability_30                                         0              0.0\n",
       "availability_60                                         0              0.0\n",
       "availability_90                                         0              0.0\n",
       "availability_365                                        0              0.0\n",
       "number_of_reviews_l30d                                  0              0.0\n",
       "number_of_reviews                                       0              0.0\n",
       "number_of_reviews_ltm                                   0              0.0\n",
       "maximum_maximum_nights                                  0              0.0\n",
       "instant_bookable                                        0              0.0\n",
       "calculated_host_listings_count                          0              0.0\n",
       "calculated_host_listings_count_entire_homes             0              0.0\n",
       "calculated_host_listings_count_private_rooms            0              0.0\n",
       "has_availability                                        0              0.0\n",
       "maximum_nights                                          0              0.0\n",
       "minimum_maximum_nights                                  0              0.0\n",
       "maximum_minimum_nights                                  0              0.0\n",
       "minimum_minimum_nights                                  0              0.0\n",
       "minimum_nights                                          0              0.0\n",
       "price                                                   0              0.0\n",
       "accommodates                                            0              0.0\n",
       "room_type                                               0              0.0\n",
       "property_type                                           0              0.0\n",
       "longitude                                               0              0.0\n",
       "latitude                                                0              0.0\n",
       "neighbourhood_group_cleansed                            0              0.0\n",
       "neighbourhood_cleansed                                  0              0.0\n",
       "calculated_host_listings_count_shared_rooms             0              0.0"
      ]
     },
     "execution_count": 139,
     "metadata": {},
     "output_type": "execute_result"
    }
   ],
   "source": [
    "print('The size of the dataframe now:', listing.shape)\n",
    "missing_df = missing_statistics(listing)\n",
    "missing_df"
   ]
  },
  {
   "cell_type": "markdown",
   "metadata": {},
   "source": [
    "Check if the 17 missing values of host columns are are missing together"
   ]
  },
  {
   "cell_type": "code",
   "execution_count": 140,
   "metadata": {},
   "outputs": [
    {
     "data": {
      "text/html": [
       "<div>\n",
       "<style scoped>\n",
       "    .dataframe tbody tr th:only-of-type {\n",
       "        vertical-align: middle;\n",
       "    }\n",
       "\n",
       "    .dataframe tbody tr th {\n",
       "        vertical-align: top;\n",
       "    }\n",
       "\n",
       "    .dataframe thead th {\n",
       "        text-align: right;\n",
       "    }\n",
       "</style>\n",
       "<table border=\"1\" class=\"dataframe\">\n",
       "  <thead>\n",
       "    <tr style=\"text-align: right;\">\n",
       "      <th></th>\n",
       "      <th>host_listings_count</th>\n",
       "      <th>host_total_listings_count</th>\n",
       "      <th>host_has_profile_pic</th>\n",
       "      <th>host_identity_verified</th>\n",
       "      <th>host_is_superhost</th>\n",
       "    </tr>\n",
       "  </thead>\n",
       "  <tbody>\n",
       "    <tr>\n",
       "      <th>4849</th>\n",
       "      <td>NaN</td>\n",
       "      <td>NaN</td>\n",
       "      <td>NaN</td>\n",
       "      <td>NaN</td>\n",
       "      <td>NaN</td>\n",
       "    </tr>\n",
       "    <tr>\n",
       "      <th>5258</th>\n",
       "      <td>NaN</td>\n",
       "      <td>NaN</td>\n",
       "      <td>NaN</td>\n",
       "      <td>NaN</td>\n",
       "      <td>NaN</td>\n",
       "    </tr>\n",
       "    <tr>\n",
       "      <th>6591</th>\n",
       "      <td>NaN</td>\n",
       "      <td>NaN</td>\n",
       "      <td>NaN</td>\n",
       "      <td>NaN</td>\n",
       "      <td>NaN</td>\n",
       "    </tr>\n",
       "    <tr>\n",
       "      <th>7306</th>\n",
       "      <td>NaN</td>\n",
       "      <td>NaN</td>\n",
       "      <td>NaN</td>\n",
       "      <td>NaN</td>\n",
       "      <td>NaN</td>\n",
       "    </tr>\n",
       "    <tr>\n",
       "      <th>7860</th>\n",
       "      <td>NaN</td>\n",
       "      <td>NaN</td>\n",
       "      <td>NaN</td>\n",
       "      <td>NaN</td>\n",
       "      <td>NaN</td>\n",
       "    </tr>\n",
       "    <tr>\n",
       "      <th>15409</th>\n",
       "      <td>NaN</td>\n",
       "      <td>NaN</td>\n",
       "      <td>NaN</td>\n",
       "      <td>NaN</td>\n",
       "      <td>NaN</td>\n",
       "    </tr>\n",
       "    <tr>\n",
       "      <th>22646</th>\n",
       "      <td>NaN</td>\n",
       "      <td>NaN</td>\n",
       "      <td>NaN</td>\n",
       "      <td>NaN</td>\n",
       "      <td>NaN</td>\n",
       "    </tr>\n",
       "    <tr>\n",
       "      <th>22716</th>\n",
       "      <td>NaN</td>\n",
       "      <td>NaN</td>\n",
       "      <td>NaN</td>\n",
       "      <td>NaN</td>\n",
       "      <td>NaN</td>\n",
       "    </tr>\n",
       "    <tr>\n",
       "      <th>24240</th>\n",
       "      <td>NaN</td>\n",
       "      <td>NaN</td>\n",
       "      <td>NaN</td>\n",
       "      <td>NaN</td>\n",
       "      <td>NaN</td>\n",
       "    </tr>\n",
       "    <tr>\n",
       "      <th>24551</th>\n",
       "      <td>NaN</td>\n",
       "      <td>NaN</td>\n",
       "      <td>NaN</td>\n",
       "      <td>NaN</td>\n",
       "      <td>NaN</td>\n",
       "    </tr>\n",
       "    <tr>\n",
       "      <th>25367</th>\n",
       "      <td>NaN</td>\n",
       "      <td>NaN</td>\n",
       "      <td>NaN</td>\n",
       "      <td>NaN</td>\n",
       "      <td>NaN</td>\n",
       "    </tr>\n",
       "    <tr>\n",
       "      <th>27860</th>\n",
       "      <td>NaN</td>\n",
       "      <td>NaN</td>\n",
       "      <td>NaN</td>\n",
       "      <td>NaN</td>\n",
       "      <td>NaN</td>\n",
       "    </tr>\n",
       "    <tr>\n",
       "      <th>32390</th>\n",
       "      <td>NaN</td>\n",
       "      <td>NaN</td>\n",
       "      <td>NaN</td>\n",
       "      <td>NaN</td>\n",
       "      <td>NaN</td>\n",
       "    </tr>\n",
       "    <tr>\n",
       "      <th>39893</th>\n",
       "      <td>NaN</td>\n",
       "      <td>NaN</td>\n",
       "      <td>NaN</td>\n",
       "      <td>NaN</td>\n",
       "      <td>NaN</td>\n",
       "    </tr>\n",
       "  </tbody>\n",
       "</table>\n",
       "</div>"
      ],
      "text/plain": [
       "       host_listings_count  host_total_listings_count host_has_profile_pic  \\\n",
       "4849                   NaN                        NaN                  NaN   \n",
       "5258                   NaN                        NaN                  NaN   \n",
       "6591                   NaN                        NaN                  NaN   \n",
       "7306                   NaN                        NaN                  NaN   \n",
       "7860                   NaN                        NaN                  NaN   \n",
       "15409                  NaN                        NaN                  NaN   \n",
       "22646                  NaN                        NaN                  NaN   \n",
       "22716                  NaN                        NaN                  NaN   \n",
       "24240                  NaN                        NaN                  NaN   \n",
       "24551                  NaN                        NaN                  NaN   \n",
       "25367                  NaN                        NaN                  NaN   \n",
       "27860                  NaN                        NaN                  NaN   \n",
       "32390                  NaN                        NaN                  NaN   \n",
       "39893                  NaN                        NaN                  NaN   \n",
       "\n",
       "      host_identity_verified host_is_superhost  \n",
       "4849                     NaN               NaN  \n",
       "5258                     NaN               NaN  \n",
       "6591                     NaN               NaN  \n",
       "7306                     NaN               NaN  \n",
       "7860                     NaN               NaN  \n",
       "15409                    NaN               NaN  \n",
       "22646                    NaN               NaN  \n",
       "22716                    NaN               NaN  \n",
       "24240                    NaN               NaN  \n",
       "24551                    NaN               NaN  \n",
       "25367                    NaN               NaN  \n",
       "27860                    NaN               NaN  \n",
       "32390                    NaN               NaN  \n",
       "39893                    NaN               NaN  "
      ]
     },
     "execution_count": 140,
     "metadata": {},
     "output_type": "execute_result"
    }
   ],
   "source": [
    "cols_missing_values = list(missing_df[missing_df.num_missing > 0].index)\n",
    "df_airbnb_missing_values = listing[cols_missing_values]\n",
    "host_cols = list(df_airbnb_missing_values.columns[df_airbnb_missing_values.columns.str.contains('host')])\n",
    "df_airbnb_missing_values[host_cols][df_airbnb_missing_values.host_identity_verified.isnull()]"
   ]
  },
  {
   "cell_type": "markdown",
   "metadata": {},
   "source": [
    "As shown above, the host columns have missing values for the same observations."
   ]
  },
  {
   "cell_type": "markdown",
   "metadata": {},
   "source": [
    "#### Dealing with Null values"
   ]
  },
  {
   "cell_type": "code",
   "execution_count": null,
   "metadata": {},
   "outputs": [],
   "source": []
  },
  {
   "cell_type": "code",
   "execution_count": 141,
   "metadata": {},
   "outputs": [
    {
     "name": "stdout",
     "output_type": "stream",
     "text": [
      "Filling host_is_superhost null values with most frequent value\n",
      "Filling host_listings_count null values with median value\n",
      "Filling host_total_listings_count null values with median value\n",
      "Filling host_has_profile_pic null values with most frequent value\n",
      "Filling host_identity_verified null values with most frequent value\n",
      "Filling bedrooms null values with median value\n",
      "Filling beds null values with median value\n"
     ]
    },
    {
     "data": {
      "text/plain": [
       "id                                              0\n",
       "host_is_superhost                               0\n",
       "host_listings_count                             0\n",
       "host_total_listings_count                       0\n",
       "host_has_profile_pic                            0\n",
       "host_identity_verified                          0\n",
       "neighbourhood_cleansed                          0\n",
       "neighbourhood_group_cleansed                    0\n",
       "latitude                                        0\n",
       "longitude                                       0\n",
       "property_type                                   0\n",
       "room_type                                       0\n",
       "accommodates                                    0\n",
       "bedrooms                                        0\n",
       "beds                                            0\n",
       "price                                           0\n",
       "minimum_nights                                  0\n",
       "maximum_nights                                  0\n",
       "minimum_minimum_nights                          0\n",
       "maximum_minimum_nights                          0\n",
       "minimum_maximum_nights                          0\n",
       "maximum_maximum_nights                          0\n",
       "has_availability                                0\n",
       "availability_30                                 0\n",
       "availability_60                                 0\n",
       "availability_90                                 0\n",
       "availability_365                                0\n",
       "number_of_reviews                               0\n",
       "number_of_reviews_ltm                           0\n",
       "number_of_reviews_l30d                          0\n",
       "instant_bookable                                0\n",
       "calculated_host_listings_count                  0\n",
       "calculated_host_listings_count_entire_homes     0\n",
       "calculated_host_listings_count_private_rooms    0\n",
       "calculated_host_listings_count_shared_rooms     0\n",
       "dtype: int64"
      ]
     },
     "execution_count": 141,
     "metadata": {},
     "output_type": "execute_result"
    }
   ],
   "source": [
    "from sklearn.impute import SimpleImputer\n",
    "\n",
    "missing_cols = ['host_is_superhost','host_listings_count','host_total_listings_count','host_has_profile_pic',\n",
    "                'host_identity_verified','bedrooms','beds']\n",
    "listing.isna().sum()\n",
    "\n",
    "def replace_missing_values(cols, df):\n",
    "    for col in cols:\n",
    "        if type(df[col].dtype) is pd.core.dtypes.dtypes.CategoricalDtype:\n",
    "            print(\"Filling {} null values with most frequent value\".format(col))\n",
    "            mode_imputer = SimpleImputer(strategy='most_frequent')\n",
    "            df.loc[:, col] = mode_imputer.fit_transform(df[[col]])\n",
    "        elif df[col].dtype == 'float64' or df[col].dtype == 'int64':\n",
    "            print(\"Filling {} null values with median value\".format(col))\n",
    "            median_imputer = SimpleImputer(strategy='median')\n",
    "            df.loc[:, col] = median_imputer.fit_transform(df[[col]])\n",
    "        else:\n",
    "            raise ValueError(\"Invalid column type\")\n",
    "    return df\n",
    "\n",
    "listing_full = replace_missing_values(missing_cols, listing)\n",
    "listing_full.isna().sum()"
   ]
  },
  {
   "cell_type": "markdown",
   "metadata": {},
   "source": [
    "As shown above, there is no missing values in the dataset"
   ]
  },
  {
   "cell_type": "markdown",
   "metadata": {},
   "source": [
    "#### Clean speical columns  \n",
    "\n",
    "The price column contains a special dollar symble in it. Delete the special symble"
   ]
  },
  {
   "cell_type": "code",
   "execution_count": 142,
   "metadata": {},
   "outputs": [
    {
     "data": {
      "text/plain": [
       "0    175.0\n",
       "2     60.0\n",
       "3    175.0\n",
       "4     73.0\n",
       "5     75.0\n",
       "Name: price, dtype: float64"
      ]
     },
     "execution_count": 142,
     "metadata": {},
     "output_type": "execute_result"
    }
   ],
   "source": [
    "import re\n",
    "listing_full['price'] = listing_full.price.apply(lambda x:re.sub(r'[$,]', '', x)).astype('float64')\n",
    "listing_full['price'].head()"
   ]
  },
  {
   "cell_type": "markdown",
   "metadata": {},
   "source": [
    "#### One-hot encoding for categorical variables"
   ]
  },
  {
   "cell_type": "code",
   "execution_count": 143,
   "metadata": {},
   "outputs": [],
   "source": [
    "cate = ['host_is_superhost','host_has_profile_pic','host_identity_verified','neighbourhood_cleansed','neighbourhood_group_cleansed',]\n",
    "category_one_hot_encoding = pd.get_dummies(listing_full[cate])\n",
    "# listing_full.head()\n",
    "listing_full = pd.concat([listing_full, category_one_hot_encoding],\n",
    "                            axis='columns').drop(cate,\n",
    "                                                 axis='columns')"
   ]
  },
  {
   "cell_type": "markdown",
   "metadata": {},
   "source": [
    "## PCA Analysis"
   ]
  },
  {
   "cell_type": "code",
   "execution_count": 154,
   "metadata": {},
   "outputs": [
    {
     "data": {
      "image/png": "[encoded data removed]",
      "text/plain": [
       "<Figure size 1008x576 with 1 Axes>"
      ]
     },
     "metadata": {
      "needs_background": "light"
     },
     "output_type": "display_data"
    }
   ],
   "source": [
    "from sklearn.decomposition import PCA\n",
    "listing_pca = listing_full.select_dtypes(include=['float64','int64','uint8'])\n",
    "pca = PCA(n_components=5)\n",
    "pca.fit(listing_pca)\n",
    "PCA(copy=True, iterated_power='auto', n_components=5, random_state=None,\n",
    "    svd_solver='auto', tol=0.0, whiten=False)\n",
    "features = range(pca.n_components_)\n",
    "plt.figure(figsize=(14,8))\n",
    "plt.bar(features, pca.explained_variance_)\n",
    "plt.xticks(features)\n",
    "plt.ylabel('variance')\n",
    "plt.xlabel('PCA feature')\n",
    "plt.show()"
   ]
  },
  {
   "cell_type": "code",
   "execution_count": 156,
   "metadata": {},
   "outputs": [
    {
     "data": {
      "text/plain": [
       "(39339, 5)"
      ]
     },
     "execution_count": 156,
     "metadata": {},
     "output_type": "execute_result"
    }
   ],
   "source": [
    "pca_features = pca.transform(listing_pca)\n",
    "pca_features.shape"
   ]
  },
  {
   "cell_type": "code",
   "execution_count": 157,
   "metadata": {},
   "outputs": [
    {
     "data": {
      "text/html": [
       "<div>\n",
       "<style scoped>\n",
       "    .dataframe tbody tr th:only-of-type {\n",
       "        vertical-align: middle;\n",
       "    }\n",
       "\n",
       "    .dataframe tbody tr th {\n",
       "        vertical-align: top;\n",
       "    }\n",
       "\n",
       "    .dataframe thead th {\n",
       "        text-align: right;\n",
       "    }\n",
       "</style>\n",
       "<table border=\"1\" class=\"dataframe\">\n",
       "  <thead>\n",
       "    <tr style=\"text-align: right;\">\n",
       "      <th></th>\n",
       "      <th>0</th>\n",
       "      <th>1</th>\n",
       "      <th>2</th>\n",
       "      <th>3</th>\n",
       "      <th>4</th>\n",
       "    </tr>\n",
       "  </thead>\n",
       "  <tbody>\n",
       "    <tr>\n",
       "      <th>0</th>\n",
       "      <td>134460.150419</td>\n",
       "      <td>-2.277836e+07</td>\n",
       "      <td>32.621493</td>\n",
       "      <td>40.917532</td>\n",
       "      <td>146.842609</td>\n",
       "    </tr>\n",
       "    <tr>\n",
       "      <th>1</th>\n",
       "      <td>133750.519925</td>\n",
       "      <td>-2.277584e+07</td>\n",
       "      <td>31.627920</td>\n",
       "      <td>-90.067538</td>\n",
       "      <td>-19.311079</td>\n",
       "    </tr>\n",
       "    <tr>\n",
       "      <th>2</th>\n",
       "      <td>134434.493647</td>\n",
       "      <td>-2.277581e+07</td>\n",
       "      <td>34.188631</td>\n",
       "      <td>40.506819</td>\n",
       "      <td>137.741094</td>\n",
       "    </tr>\n",
       "    <tr>\n",
       "      <th>3</th>\n",
       "      <td>132509.859217</td>\n",
       "      <td>-2.277579e+07</td>\n",
       "      <td>10.453923</td>\n",
       "      <td>-63.285123</td>\n",
       "      <td>149.657699</td>\n",
       "    </tr>\n",
       "    <tr>\n",
       "      <th>4</th>\n",
       "      <td>132509.606802</td>\n",
       "      <td>-2.277577e+07</td>\n",
       "      <td>30.014955</td>\n",
       "      <td>-76.363248</td>\n",
       "      <td>-31.154717</td>\n",
       "    </tr>\n",
       "  </tbody>\n",
       "</table>\n",
       "</div>"
      ],
      "text/plain": [
       "               0             1          2          3           4\n",
       "0  134460.150419 -2.277836e+07  32.621493  40.917532  146.842609\n",
       "1  133750.519925 -2.277584e+07  31.627920 -90.067538  -19.311079\n",
       "2  134434.493647 -2.277581e+07  34.188631  40.506819  137.741094\n",
       "3  132509.859217 -2.277579e+07  10.453923 -63.285123  149.657699\n",
       "4  132509.606802 -2.277577e+07  30.014955 -76.363248  -31.154717"
      ]
     },
     "execution_count": 157,
     "metadata": {},
     "output_type": "execute_result"
    }
   ],
   "source": [
    "pca_df = pd.DataFrame(pca_features)\n",
    "pca_df.head()"
   ]
  },
  {
   "cell_type": "markdown",
   "metadata": {},
   "source": [
    "#### Fit K-means for K=1...10 clusters and use Elbow Method"
   ]
  },
  {
   "cell_type": "code",
   "execution_count": 158,
   "metadata": {},
   "outputs": [
    {
     "data": {
      "image/png": "[encoded data removed]",
      "text/plain": [
       "<Figure size 432x288 with 1 Axes>"
      ]
     },
     "metadata": {
      "needs_background": "light"
     },
     "output_type": "display_data"
    }
   ],
   "source": [
    "from sklearn.cluster import KMeans\n",
    "import seaborn as sns\n",
    "\n",
    "sse = {}\n",
    "for k in range(1, 11):\n",
    "    kmeans = KMeans(n_clusters=k, random_state=1)\n",
    "    kmeans.fit(pca_df)\n",
    "    sse[k] = kmeans.inertia_\n",
    "plt.title('The Elbow Method')\n",
    "plt.xlabel('k')\n",
    "plt.ylabel('SSE')\n",
    "sns.pointplot(x=list(sse.keys()), y=list(sse.values()))\n",
    "plt.show()    "
   ]
  },
  {
   "cell_type": "markdown",
   "metadata": {},
   "source": [
    "Using K=3"
   ]
  },
  {
   "cell_type": "code",
   "execution_count": 163,
   "metadata": {},
   "outputs": [
    {
     "data": {
      "text/plain": [
       "1    21698\n",
       "0    17640\n",
       "2        1\n",
       "Name: cluster, dtype: int64"
      ]
     },
     "execution_count": 163,
     "metadata": {},
     "output_type": "execute_result"
    }
   ],
   "source": [
    "kmeans = KMeans(n_clusters=3, random_state=1)\n",
    "kmeans.fit(pca_df)\n",
    "KMeans(algorithm='auto', copy_x=True, init='k-means++', max_iter=300,\n",
    "       n_clusters=3, n_init=10, n_jobs=None, precompute_distances='auto',\n",
    "       random_state=1, tol=0.0001, verbose=0)\n",
    "# get the labels\n",
    "cluster_labels = kmeans.labels_\n",
    "\n",
    "# assign these clusters back into the dataframe\n",
    "pca_df_k3 = pca_df.assign(cluster=cluster_labels)\n",
    "\n",
    "# display the shape\n",
    "pca_df_k3.shape\n",
    "pca_df_k3.cluster.value_counts()"
   ]
  },
  {
   "cell_type": "code",
   "execution_count": 162,
   "metadata": {},
   "outputs": [
    {
     "data": {
      "text/plain": [
       "array([1, 1, 1, ..., 0, 0, 0], dtype=int32)"
      ]
     },
     "execution_count": 162,
     "metadata": {},
     "output_type": "execute_result"
    }
   ],
   "source": []
  },
  {
   "cell_type": "code",
   "execution_count": 168,
   "metadata": {},
   "outputs": [],
   "source": [
    "listing = pd.read_csv('NYC.csv')"
   ]
  },
  {
   "cell_type": "code",
   "execution_count": 169,
   "metadata": {},
   "outputs": [
    {
     "data": {
      "text/plain": [
       "id                                                int64\n",
       "listing_url                                      object\n",
       "scrape_id                                         int64\n",
       "last_scraped                                     object\n",
       "name                                             object\n",
       "description                                      object\n",
       "neighborhood_overview                            object\n",
       "picture_url                                      object\n",
       "host_id                                           int64\n",
       "host_url                                         object\n",
       "host_name                                        object\n",
       "host_since                                       object\n",
       "host_location                                    object\n",
       "host_about                                       object\n",
       "host_response_time                               object\n",
       "host_response_rate                               object\n",
       "host_acceptance_rate                             object\n",
       "host_is_superhost                                object\n",
       "host_thumbnail_url                               object\n",
       "host_picture_url                                 object\n",
       "host_neighbourhood                               object\n",
       "host_listings_count                             float64\n",
       "host_total_listings_count                       float64\n",
       "host_verifications                               object\n",
       "host_has_profile_pic                             object\n",
       "host_identity_verified                           object\n",
       "neighbourhood                                    object\n",
       "neighbourhood_cleansed                           object\n",
       "neighbourhood_group_cleansed                     object\n",
       "latitude                                        float64\n",
       "                                                 ...   \n",
       "minimum_maximum_nights                          float64\n",
       "maximum_maximum_nights                          float64\n",
       "minimum_nights_avg_ntm                          float64\n",
       "maximum_nights_avg_ntm                          float64\n",
       "calendar_updated                                float64\n",
       "has_availability                                 object\n",
       "availability_30                                   int64\n",
       "availability_60                                   int64\n",
       "availability_90                                   int64\n",
       "availability_365                                  int64\n",
       "calendar_last_scraped                            object\n",
       "number_of_reviews                                 int64\n",
       "number_of_reviews_ltm                             int64\n",
       "number_of_reviews_l30d                            int64\n",
       "first_review                                     object\n",
       "last_review                                      object\n",
       "review_scores_rating                            float64\n",
       "review_scores_accuracy                          float64\n",
       "review_scores_cleanliness                       float64\n",
       "review_scores_checkin                           float64\n",
       "review_scores_communication                     float64\n",
       "review_scores_location                          float64\n",
       "review_scores_value                             float64\n",
       "license                                         float64\n",
       "instant_bookable                                 object\n",
       "calculated_host_listings_count                    int64\n",
       "calculated_host_listings_count_entire_homes       int64\n",
       "calculated_host_listings_count_private_rooms      int64\n",
       "calculated_host_listings_count_shared_rooms       int64\n",
       "reviews_per_month                               float64\n",
       "Length: 74, dtype: object"
      ]
     },
     "execution_count": 169,
     "metadata": {},
     "output_type": "execute_result"
    }
   ],
   "source": [
    "listing.dtypes"
   ]
  },
  {
   "cell_type": "code",
   "execution_count": null,
   "metadata": {},
   "outputs": [],
   "source": []
  }
 ],
 "metadata": {
  "kernelspec": {
   "display_name": "Python 3",
   "language": "python",
   "name": "python3"
  },
  "language_info": {
   "codemirror_mode": {
    "name": "ipython",
    "version": 3
   },
   "file_extension": ".py",
   "mimetype": "text/x-python",
   "name": "python",
   "nbconvert_exporter": "python",
   "pygments_lexer": "ipython3",
   "version": "3.7.1"
  }
 },
 "nbformat": 4,
 "nbformat_minor": 2
}
