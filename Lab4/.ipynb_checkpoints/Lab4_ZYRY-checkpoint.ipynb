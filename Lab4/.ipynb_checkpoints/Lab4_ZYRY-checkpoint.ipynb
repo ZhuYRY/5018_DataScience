{
 "cells": [
  {
   "cell_type": "markdown",
   "metadata": {},
   "source": [
    "# Lab 4\n",
    "\n",
    "## Yanruyu Zhu (yaz4004)\n",
    "### Github Repo:  https://github.com/ZhuYRY/5018_DataScience.git"
   ]
  },
  {
   "cell_type": "code",
   "execution_count": 1,
   "metadata": {},
   "outputs": [],
   "source": [
    "import numpy as np\n",
    "import pandas as pd\n",
    "import matplotlib.pyplot as plt\n",
    "import seaborn as sns\n",
    "from collections import Counter"
   ]
  },
  {
   "cell_type": "markdown",
   "metadata": {},
   "source": [
    "# Q1\n",
    "## a) Read in the file 'listings'"
   ]
  },
  {
   "cell_type": "code",
   "execution_count": 2,
   "metadata": {},
   "outputs": [
    {
     "data": {
      "text/html": [
       "<div>\n",
       "<style scoped>\n",
       "    .dataframe tbody tr th:only-of-type {\n",
       "        vertical-align: middle;\n",
       "    }\n",
       "\n",
       "    .dataframe tbody tr th {\n",
       "        vertical-align: top;\n",
       "    }\n",
       "\n",
       "    .dataframe thead th {\n",
       "        text-align: right;\n",
       "    }\n",
       "</style>\n",
       "<table border=\"1\" class=\"dataframe\">\n",
       "  <thead>\n",
       "    <tr style=\"text-align: right;\">\n",
       "      <th></th>\n",
       "      <th>id</th>\n",
       "      <th>listing_url</th>\n",
       "      <th>scrape_id</th>\n",
       "      <th>last_scraped</th>\n",
       "      <th>name</th>\n",
       "      <th>summary</th>\n",
       "      <th>space</th>\n",
       "      <th>description</th>\n",
       "      <th>experiences_offered</th>\n",
       "      <th>neighborhood_overview</th>\n",
       "      <th>...</th>\n",
       "      <th>instant_bookable</th>\n",
       "      <th>is_business_travel_ready</th>\n",
       "      <th>cancellation_policy</th>\n",
       "      <th>require_guest_profile_picture</th>\n",
       "      <th>require_guest_phone_verification</th>\n",
       "      <th>calculated_host_listings_count</th>\n",
       "      <th>calculated_host_listings_count_entire_homes</th>\n",
       "      <th>calculated_host_listings_count_private_rooms</th>\n",
       "      <th>calculated_host_listings_count_shared_rooms</th>\n",
       "      <th>reviews_per_month</th>\n",
       "    </tr>\n",
       "  </thead>\n",
       "  <tbody>\n",
       "    <tr>\n",
       "      <th>0</th>\n",
       "      <td>3781</td>\n",
       "      <td>https://www.airbnb.com/rooms/3781</td>\n",
       "      <td>20190714024644</td>\n",
       "      <td>2019-07-14</td>\n",
       "      <td>HARBORSIDE-Walk to subway</td>\n",
       "      <td>Fully separate apartment in a two apartment bu...</td>\n",
       "      <td>This is a totally separate apartment located o...</td>\n",
       "      <td>Fully separate apartment in a two apartment bu...</td>\n",
       "      <td>none</td>\n",
       "      <td>Mostly quiet ( no loud music, no crowed sidewa...</td>\n",
       "      <td>...</td>\n",
       "      <td>f</td>\n",
       "      <td>f</td>\n",
       "      <td>super_strict_30</td>\n",
       "      <td>f</td>\n",
       "      <td>f</td>\n",
       "      <td>1</td>\n",
       "      <td>1</td>\n",
       "      <td>0</td>\n",
       "      <td>0</td>\n",
       "      <td>0.31</td>\n",
       "    </tr>\n",
       "    <tr>\n",
       "      <th>1</th>\n",
       "      <td>5506</td>\n",
       "      <td>https://www.airbnb.com/rooms/5506</td>\n",
       "      <td>20190714024644</td>\n",
       "      <td>2019-07-14</td>\n",
       "      <td>**$99 Special **   Private! Minutes to center!</td>\n",
       "      <td>This is a private guest room with private bath...</td>\n",
       "      <td>**THE BEST Value in BOSTON!!*** PRIVATE GUEST ...</td>\n",
       "      <td>This is a private guest room with private bath...</td>\n",
       "      <td>none</td>\n",
       "      <td>Peacful, Architecturally interesting, historic...</td>\n",
       "      <td>...</td>\n",
       "      <td>t</td>\n",
       "      <td>f</td>\n",
       "      <td>strict_14_with_grace_period</td>\n",
       "      <td>f</td>\n",
       "      <td>f</td>\n",
       "      <td>6</td>\n",
       "      <td>6</td>\n",
       "      <td>0</td>\n",
       "      <td>0</td>\n",
       "      <td>0.76</td>\n",
       "    </tr>\n",
       "    <tr>\n",
       "      <th>2</th>\n",
       "      <td>6695</td>\n",
       "      <td>https://www.airbnb.com/rooms/6695</td>\n",
       "      <td>20190714024644</td>\n",
       "      <td>2019-07-14</td>\n",
       "      <td>$99 Special!! Home Away! Condo</td>\n",
       "      <td>NaN</td>\n",
       "      <td>** WELCOME *** FULL PRIVATE APARTMENT In a His...</td>\n",
       "      <td>** WELCOME *** FULL PRIVATE APARTMENT In a His...</td>\n",
       "      <td>none</td>\n",
       "      <td>Peaceful, Architecturally interesting, histori...</td>\n",
       "      <td>...</td>\n",
       "      <td>t</td>\n",
       "      <td>f</td>\n",
       "      <td>strict_14_with_grace_period</td>\n",
       "      <td>f</td>\n",
       "      <td>f</td>\n",
       "      <td>6</td>\n",
       "      <td>6</td>\n",
       "      <td>0</td>\n",
       "      <td>0</td>\n",
       "      <td>0.84</td>\n",
       "    </tr>\n",
       "    <tr>\n",
       "      <th>3</th>\n",
       "      <td>6976</td>\n",
       "      <td>https://www.airbnb.com/rooms/6976</td>\n",
       "      <td>20190714024644</td>\n",
       "      <td>2019-07-14</td>\n",
       "      <td>Mexican Folk Art Showcase in Boston Neighborhood</td>\n",
       "      <td>Come stay with me in Boston's Roslindale neigh...</td>\n",
       "      <td>This is a well-maintained, two-family house bu...</td>\n",
       "      <td>Come stay with me in Boston's Roslindale neigh...</td>\n",
       "      <td>none</td>\n",
       "      <td>The LOCATION: Roslindale is a safe and diverse...</td>\n",
       "      <td>...</td>\n",
       "      <td>f</td>\n",
       "      <td>f</td>\n",
       "      <td>moderate</td>\n",
       "      <td>t</td>\n",
       "      <td>f</td>\n",
       "      <td>1</td>\n",
       "      <td>0</td>\n",
       "      <td>1</td>\n",
       "      <td>0</td>\n",
       "      <td>0.66</td>\n",
       "    </tr>\n",
       "    <tr>\n",
       "      <th>4</th>\n",
       "      <td>8789</td>\n",
       "      <td>https://www.airbnb.com/rooms/8789</td>\n",
       "      <td>20190714024644</td>\n",
       "      <td>2019-07-14</td>\n",
       "      <td>Curved Glass Studio/1bd facing Park</td>\n",
       "      <td>Bright, 1 bed with curved glass windows facing...</td>\n",
       "      <td>Fully Furnished studio with enclosed bedroom. ...</td>\n",
       "      <td>Bright, 1 bed with curved glass windows facing...</td>\n",
       "      <td>none</td>\n",
       "      <td>Beacon Hill is a historic neighborhood filled ...</td>\n",
       "      <td>...</td>\n",
       "      <td>f</td>\n",
       "      <td>f</td>\n",
       "      <td>strict_14_with_grace_period</td>\n",
       "      <td>f</td>\n",
       "      <td>f</td>\n",
       "      <td>10</td>\n",
       "      <td>10</td>\n",
       "      <td>0</td>\n",
       "      <td>0</td>\n",
       "      <td>0.38</td>\n",
       "    </tr>\n",
       "  </tbody>\n",
       "</table>\n",
       "<p>5 rows × 106 columns</p>\n",
       "</div>"
      ],
      "text/plain": [
       "     id                        listing_url       scrape_id last_scraped  \\\n",
       "0  3781  https://www.airbnb.com/rooms/3781  20190714024644   2019-07-14   \n",
       "1  5506  https://www.airbnb.com/rooms/5506  20190714024644   2019-07-14   \n",
       "2  6695  https://www.airbnb.com/rooms/6695  20190714024644   2019-07-14   \n",
       "3  6976  https://www.airbnb.com/rooms/6976  20190714024644   2019-07-14   \n",
       "4  8789  https://www.airbnb.com/rooms/8789  20190714024644   2019-07-14   \n",
       "\n",
       "                                               name  \\\n",
       "0                         HARBORSIDE-Walk to subway   \n",
       "1    **$99 Special **   Private! Minutes to center!   \n",
       "2                    $99 Special!! Home Away! Condo   \n",
       "3  Mexican Folk Art Showcase in Boston Neighborhood   \n",
       "4               Curved Glass Studio/1bd facing Park   \n",
       "\n",
       "                                             summary  \\\n",
       "0  Fully separate apartment in a two apartment bu...   \n",
       "1  This is a private guest room with private bath...   \n",
       "2                                                NaN   \n",
       "3  Come stay with me in Boston's Roslindale neigh...   \n",
       "4  Bright, 1 bed with curved glass windows facing...   \n",
       "\n",
       "                                               space  \\\n",
       "0  This is a totally separate apartment located o...   \n",
       "1  **THE BEST Value in BOSTON!!*** PRIVATE GUEST ...   \n",
       "2  ** WELCOME *** FULL PRIVATE APARTMENT In a His...   \n",
       "3  This is a well-maintained, two-family house bu...   \n",
       "4  Fully Furnished studio with enclosed bedroom. ...   \n",
       "\n",
       "                                         description experiences_offered  \\\n",
       "0  Fully separate apartment in a two apartment bu...                none   \n",
       "1  This is a private guest room with private bath...                none   \n",
       "2  ** WELCOME *** FULL PRIVATE APARTMENT In a His...                none   \n",
       "3  Come stay with me in Boston's Roslindale neigh...                none   \n",
       "4  Bright, 1 bed with curved glass windows facing...                none   \n",
       "\n",
       "                               neighborhood_overview        ...          \\\n",
       "0  Mostly quiet ( no loud music, no crowed sidewa...        ...           \n",
       "1  Peacful, Architecturally interesting, historic...        ...           \n",
       "2  Peaceful, Architecturally interesting, histori...        ...           \n",
       "3  The LOCATION: Roslindale is a safe and diverse...        ...           \n",
       "4  Beacon Hill is a historic neighborhood filled ...        ...           \n",
       "\n",
       "  instant_bookable is_business_travel_ready          cancellation_policy  \\\n",
       "0                f                        f              super_strict_30   \n",
       "1                t                        f  strict_14_with_grace_period   \n",
       "2                t                        f  strict_14_with_grace_period   \n",
       "3                f                        f                     moderate   \n",
       "4                f                        f  strict_14_with_grace_period   \n",
       "\n",
       "  require_guest_profile_picture require_guest_phone_verification  \\\n",
       "0                             f                                f   \n",
       "1                             f                                f   \n",
       "2                             f                                f   \n",
       "3                             t                                f   \n",
       "4                             f                                f   \n",
       "\n",
       "   calculated_host_listings_count  \\\n",
       "0                               1   \n",
       "1                               6   \n",
       "2                               6   \n",
       "3                               1   \n",
       "4                              10   \n",
       "\n",
       "   calculated_host_listings_count_entire_homes  \\\n",
       "0                                            1   \n",
       "1                                            6   \n",
       "2                                            6   \n",
       "3                                            0   \n",
       "4                                           10   \n",
       "\n",
       "  calculated_host_listings_count_private_rooms  \\\n",
       "0                                            0   \n",
       "1                                            0   \n",
       "2                                            0   \n",
       "3                                            1   \n",
       "4                                            0   \n",
       "\n",
       "   calculated_host_listings_count_shared_rooms  reviews_per_month  \n",
       "0                                            0               0.31  \n",
       "1                                            0               0.76  \n",
       "2                                            0               0.84  \n",
       "3                                            0               0.66  \n",
       "4                                            0               0.38  \n",
       "\n",
       "[5 rows x 106 columns]"
      ]
     },
     "execution_count": 2,
     "metadata": {},
     "output_type": "execute_result"
    }
   ],
   "source": [
    "# Read in the file 'listings'\n",
    "listings = pd.read_csv(\"listings.csv\")\n",
    "# Take a look at the first 5 rows\n",
    "listings.head()"
   ]
  },
  {
   "cell_type": "markdown",
   "metadata": {},
   "source": [
    "## b) How many entries are in the file?"
   ]
  },
  {
   "cell_type": "code",
   "execution_count": 3,
   "metadata": {},
   "outputs": [
    {
     "name": "stdout",
     "output_type": "stream",
     "text": [
      "There are 6264 entries in the file.\n"
     ]
    }
   ],
   "source": [
    "# How many entries are in the file?\n",
    "print(\"There are {0} entries in the file.\".format(listings.shape[0]))\n"
   ]
  },
  {
   "cell_type": "markdown",
   "metadata": {},
   "source": [
    "## c) How many unique identifiers are there for AirBnB listings?"
   ]
  },
  {
   "cell_type": "code",
   "execution_count": 4,
   "metadata": {},
   "outputs": [
    {
     "name": "stdout",
     "output_type": "stream",
     "text": [
      "There are 6264 unique ID for Airbnb listings.\n"
     ]
    }
   ],
   "source": [
    "print(\"There are {0} unique ID for Airbnb listings.\".format(listings.nunique(axis = 0)[0]) )"
   ]
  },
  {
   "cell_type": "markdown",
   "metadata": {},
   "source": [
    "# Question 2      \n",
    "## a) Read in the 'reviews' file that contains the date of reviews for the Boston AirBnB listings."
   ]
  },
  {
   "cell_type": "code",
   "execution_count": 5,
   "metadata": {},
   "outputs": [
    {
     "data": {
      "text/html": [
       "<div>\n",
       "<style scoped>\n",
       "    .dataframe tbody tr th:only-of-type {\n",
       "        vertical-align: middle;\n",
       "    }\n",
       "\n",
       "    .dataframe tbody tr th {\n",
       "        vertical-align: top;\n",
       "    }\n",
       "\n",
       "    .dataframe thead th {\n",
       "        text-align: right;\n",
       "    }\n",
       "</style>\n",
       "<table border=\"1\" class=\"dataframe\">\n",
       "  <thead>\n",
       "    <tr style=\"text-align: right;\">\n",
       "      <th></th>\n",
       "      <th>listing_id</th>\n",
       "      <th>date</th>\n",
       "    </tr>\n",
       "  </thead>\n",
       "  <tbody>\n",
       "    <tr>\n",
       "      <th>0</th>\n",
       "      <td>3781</td>\n",
       "      <td>2015-07-10</td>\n",
       "    </tr>\n",
       "    <tr>\n",
       "      <th>1</th>\n",
       "      <td>3781</td>\n",
       "      <td>2015-08-09</td>\n",
       "    </tr>\n",
       "    <tr>\n",
       "      <th>2</th>\n",
       "      <td>3781</td>\n",
       "      <td>2015-09-01</td>\n",
       "    </tr>\n",
       "    <tr>\n",
       "      <th>3</th>\n",
       "      <td>3781</td>\n",
       "      <td>2015-09-30</td>\n",
       "    </tr>\n",
       "    <tr>\n",
       "      <th>4</th>\n",
       "      <td>3781</td>\n",
       "      <td>2015-10-30</td>\n",
       "    </tr>\n",
       "  </tbody>\n",
       "</table>\n",
       "</div>"
      ],
      "text/plain": [
       "   listing_id        date\n",
       "0        3781  2015-07-10\n",
       "1        3781  2015-08-09\n",
       "2        3781  2015-09-01\n",
       "3        3781  2015-09-30\n",
       "4        3781  2015-10-30"
      ]
     },
     "execution_count": 5,
     "metadata": {},
     "output_type": "execute_result"
    }
   ],
   "source": [
    "# Read in the 'reviews' file\n",
    "reviews = pd.read_csv(\"reviews.csv\")\n",
    "# Take a look at the first 5 rows\n",
    "reviews.head()"
   ]
  },
  {
   "cell_type": "markdown",
   "metadata": {},
   "source": [
    "## b) How many entries are in the file?"
   ]
  },
  {
   "cell_type": "code",
   "execution_count": 6,
   "metadata": {},
   "outputs": [
    {
     "name": "stdout",
     "output_type": "stream",
     "text": [
      "There are 225880 entries in the file.\n"
     ]
    }
   ],
   "source": [
    "print(\"There are {0} entries in the file.\".format(reviews.shape[0]))"
   ]
  },
  {
   "cell_type": "markdown",
   "metadata": {},
   "source": [
    "## c) How many unique identifiers are there for AirBnB listings?"
   ]
  },
  {
   "cell_type": "code",
   "execution_count": 7,
   "metadata": {},
   "outputs": [
    {
     "name": "stdout",
     "output_type": "stream",
     "text": [
      "There are 5088 unique identifiers for AirBnB listings.\n"
     ]
    }
   ],
   "source": [
    "print(\"There are {0} unique identifiers for AirBnB listings.\".format(reviews.nunique(axis=0)[0]))"
   ]
  },
  {
   "cell_type": "markdown",
   "metadata": {},
   "source": [
    "## d) Do all of the listings have a corresponding review?"
   ]
  },
  {
   "cell_type": "code",
   "execution_count": 8,
   "metadata": {},
   "outputs": [
    {
     "data": {
      "text/plain": [
       "1176"
      ]
     },
     "execution_count": 8,
     "metadata": {},
     "output_type": "execute_result"
    }
   ],
   "source": [
    "listings.nunique(axis = 0)[0] - reviews.nunique(axis=0)[0]"
   ]
  },
  {
   "cell_type": "markdown",
   "metadata": {},
   "source": [
    "### Since the number of unique IDs in \"listings\" is 1176 smaller than the number of unique IDs in \"reviews\", there are 1176 listings which do not have a corresponding review."
   ]
  },
  {
   "cell_type": "markdown",
   "metadata": {},
   "source": [
    "\n",
    "# Question 3\n",
    "## a) Merge the review and listing files."
   ]
  },
  {
   "cell_type": "code",
   "execution_count": 9,
   "metadata": {},
   "outputs": [],
   "source": [
    "# In order that all of the entries from listing are in the merged data frame \n",
    "# and have an NaN if there is no corresponding entry in reviews.\n",
    "# Use an \"outer\" join on matching\n",
    "# \"Review\" by \"listing_id\"; \"Listings\" by \"id\"\n",
    "merge_data_3 = pd.merge(reviews, listings, how = \"outer\", left_on = \"listing_id\", right_on = \"id\")"
   ]
  },
  {
   "cell_type": "markdown",
   "metadata": {},
   "source": [
    "## b) How many rows do you now have?"
   ]
  },
  {
   "cell_type": "code",
   "execution_count": 10,
   "metadata": {},
   "outputs": [
    {
     "name": "stdout",
     "output_type": "stream",
     "text": [
      "There are 227056 rows.\n"
     ]
    }
   ],
   "source": [
    "print(\"There are {0} rows.\".format(merge_data_3.shape[0]))"
   ]
  },
  {
   "cell_type": "markdown",
   "metadata": {},
   "source": [
    "## c) How many unique AirBnB ids do you have?"
   ]
  },
  {
   "cell_type": "code",
   "execution_count": 11,
   "metadata": {},
   "outputs": [
    {
     "name": "stdout",
     "output_type": "stream",
     "text": [
      "There are 6264 unique AirBnB IDs.\n"
     ]
    }
   ],
   "source": [
    "print(\"There are {0} unique AirBnB IDs.\".format(merge_data_3.nunique(axis = 0)[2]))"
   ]
  },
  {
   "cell_type": "markdown",
   "metadata": {},
   "source": [
    "## d) How many rows were filled in with NaN?"
   ]
  },
  {
   "cell_type": "code",
   "execution_count": 12,
   "metadata": {},
   "outputs": [
    {
     "name": "stdout",
     "output_type": "stream",
     "text": [
      "There are 1176 rows were filled in with NaN.\n"
     ]
    }
   ],
   "source": [
    "print(\"There are {0} rows were filled in with NaN.\".format(merge_data_3[\"listing_id\"].isna().sum()))"
   ]
  },
  {
   "cell_type": "markdown",
   "metadata": {},
   "source": [
    "# Question 4 \n",
    "## a) Merge the review and listing files again using 'pd.merge' so that all of the entries from reviews are in the dataframe (and therefore any entries from listings that do not have a review are dropped)"
   ]
  },
  {
   "cell_type": "code",
   "execution_count": 13,
   "metadata": {},
   "outputs": [],
   "source": [
    "# Use \"Inner\" join \n",
    "merge_data_4 = pd.merge(reviews, listings, how = \"inner\", left_on = \"listing_id\", right_on = \"id\")"
   ]
  },
  {
   "cell_type": "markdown",
   "metadata": {},
   "source": [
    "## b) How many rows do you now have?"
   ]
  },
  {
   "cell_type": "code",
   "execution_count": 14,
   "metadata": {},
   "outputs": [
    {
     "name": "stdout",
     "output_type": "stream",
     "text": [
      "There are 225880 rows.\n"
     ]
    }
   ],
   "source": [
    "print(\"There are {0} rows.\".format(merge_data_4.shape[0]))"
   ]
  },
  {
   "cell_type": "markdown",
   "metadata": {},
   "source": [
    "## c) How many unique AirBnB ids do you have?"
   ]
  },
  {
   "cell_type": "code",
   "execution_count": 15,
   "metadata": {},
   "outputs": [
    {
     "name": "stdout",
     "output_type": "stream",
     "text": [
      "There are 5088 unique AirBnB IDs.\n"
     ]
    }
   ],
   "source": [
    "print(\"There are {0} unique AirBnB IDs.\".format(merge_data_4.nunique(axis = 0)[2]))"
   ]
  },
  {
   "cell_type": "markdown",
   "metadata": {},
   "source": [
    "# Question 5 \n",
    "## a) How many unique AirBnBs are hosted by a 'superhost' in Boston?"
   ]
  },
  {
   "cell_type": "code",
   "execution_count": 16,
   "metadata": {},
   "outputs": [
    {
     "name": "stdout",
     "output_type": "stream",
     "text": [
      "There are 1448 unique AirBnBs which are hosted by a 'superhost' in Boston\n"
     ]
    }
   ],
   "source": [
    "n_airbnb = listings[listings[\"host_is_superhost\"].isin([\"t\"])].nunique()[0]\n",
    "print(\"There are {0} unique AirBnBs which are hosted by a 'superhost' in Boston\".format(n_airbnb))"
   ]
  },
  {
   "cell_type": "markdown",
   "metadata": {},
   "source": [
    "## b) How many superhosts are there in Boston?"
   ]
  },
  {
   "cell_type": "code",
   "execution_count": 17,
   "metadata": {},
   "outputs": [
    {
     "name": "stdout",
     "output_type": "stream",
     "text": [
      "There are 757 super hosts in Boston.\n"
     ]
    }
   ],
   "source": [
    "# Filter out listings which are hosted by a \"superhost\" from \"listings\"\n",
    "air_super = listings[listings[\"host_is_superhost\"].isin([\"t\"])]\n",
    "# Count the unique \"host id\"\n",
    "n_host = air_super['host_id'].nunique()\n",
    "print(\"There are {0} super hosts in Boston.\".format(n_host))"
   ]
  },
  {
   "cell_type": "markdown",
   "metadata": {},
   "source": [
    "## c) How many super hosts do not have any reviews in the 'reviews' dataset?"
   ]
  },
  {
   "cell_type": "code",
   "execution_count": 18,
   "metadata": {},
   "outputs": [
    {
     "name": "stdout",
     "output_type": "stream",
     "text": [
      "There are 35 super hosts do not have any reviews.\n"
     ]
    }
   ],
   "source": [
    "# Filter out listings which are hosted by a \"superhost\" from an outer-merged dataset\n",
    "super_host = merge_data_3[merge_data_3[\"host_is_superhost\"].isin([\"t\"])]\n",
    "# Filter out listings which do not have matched \"listing_id\"\n",
    "no_review = super_host[super_host['listing_id'].isnull()]\n",
    "# Count the unique \"host_id\"\n",
    "unique_no_review = no_review['host_id'].nunique()\n",
    "\n",
    "print(\"There are {0} super hosts do not have any reviews.\".format(unique_no_review))"
   ]
  },
  {
   "cell_type": "markdown",
   "metadata": {},
   "source": [
    "## d) What is the median number of reviews that a superhost has in the 'reviews' dataset?"
   ]
  },
  {
   "cell_type": "code",
   "execution_count": 25,
   "metadata": {},
   "outputs": [
    {
     "name": "stdout",
     "output_type": "stream",
     "text": [
      "The median number of reviews that a superhost has in the 'reviews' dataset is 73.0.\n"
     ]
    }
   ],
   "source": [
    "# Filter out listings which are hosted by a \"superhost\" from an outer-merged dataset\n",
    "super_host = merge_data_3[merge_data_3[\"host_is_superhost\"].isin([\"t\"])]\n",
    "# filter out super host in the review data set\n",
    "super_host_re = super_host[super_host['date'].notnull()]\n",
    "# Count the number of reviews for each super_host\n",
    "temp = np.median(list(Counter(super_host_re['host_id']).values()))\n",
    "\n",
    "# Take the median for each superhost\n",
    "print(\"The median number of reviews that a superhost has in the 'reviews' dataset is {0}.\".format(np.median(temp)))"
   ]
  },
  {
   "cell_type": "markdown",
   "metadata": {},
   "source": [
    "# Question 6 \n",
    "## Make boxplots to compare the number of reviews of superhosts to non-superhosts."
   ]
  },
  {
   "cell_type": "code",
   "execution_count": 26,
   "metadata": {},
   "outputs": [
    {
     "name": "stderr",
     "output_type": "stream",
     "text": [
      "/anaconda3/lib/python3.7/site-packages/numpy/core/_asarray.py:83: VisibleDeprecationWarning: Creating an ndarray from ragged nested sequences (which is a list-or-tuple of lists-or-tuples-or ndarrays with different lengths or shapes) is deprecated. If you meant to do this, you must specify 'dtype=object' when creating the ndarray\n",
      "  return array(a, dtype, copy=False, order=order)\n"
     ]
    },
    {
     "data": {
      "text/plain": [
       "Text(0, 0.5, 'log value of number of reviews')"
      ]
     },
     "execution_count": 26,
     "metadata": {},
     "output_type": "execute_result"
    },
    {
     "data": {
      "image/png": "[encoded data removed]",
      "text/plain": [
       "<Figure size 432x288 with 1 Axes>"
      ]
     },
     "metadata": {
      "needs_background": "light"
     },
     "output_type": "display_data"
    }
   ],
   "source": [
    "np_count = listings['number_of_reviews']\n",
    "np_count += 1\n",
    "listings['number_of_reviews'] = np_count\n",
    "superhost = listings[listings[\"host_is_superhost\"].isin([\"t\"])]\n",
    "nonsuperhost = listings[listings[\"host_is_superhost\"].isin([\"f\"])]\n",
    "num_re_super = np.log(superhost['number_of_reviews'])\n",
    "num_re_nonsuper = np.log(nonsuperhost['number_of_reviews'])\n",
    "\n",
    "# plot boxplot\n",
    "fig,axe = plt.subplots()\n",
    "plt.boxplot([num_re_super,num_re_nonsuper])\n",
    "plt.title(\"Comparison of number of reviews of superhosts to non-superhosts\")\n",
    "axe.set_xticklabels(['superhost','nonsuperhost'])\n",
    "plt.ylabel(\"log value of number of reviews\")"
   ]
  },
  {
   "cell_type": "code",
   "execution_count": null,
   "metadata": {},
   "outputs": [],
   "source": []
  },
  {
   "cell_type": "code",
   "execution_count": null,
   "metadata": {},
   "outputs": [],
   "source": []
  }
 ],
 "metadata": {
  "kernelspec": {
   "display_name": "Python 3",
   "language": "python",
   "name": "python3"
  },
  "language_info": {
   "codemirror_mode": {
    "name": "ipython",
    "version": 3
   },
   "file_extension": ".py",
   "mimetype": "text/x-python",
   "name": "python",
   "nbconvert_exporter": "python",
   "pygments_lexer": "ipython3",
   "version": "3.7.1"
  }
 },
 "nbformat": 4,
 "nbformat_minor": 2
}
